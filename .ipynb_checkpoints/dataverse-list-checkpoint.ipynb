{
 "cells": [
  {
   "cell_type": "code",
   "execution_count": null,
   "metadata": {},
   "outputs": [],
   "source": [
    "# NOTE: doesn't need api key to pull out a list\n",
    "# example runs but way too many,  just need DOIs and titles, maybe PI\n",
    "from datetime import datetime\n",
    "import sys, re, fileinput\n",
    "import json\n",
    "import requests  # http://docs.python-requests.org/en/master/\n",
    "import pyDataverse\n",
    "from pyDataverse.api import Api\n",
    "# establish connection\n",
    "# example runs but way too many,  just need DOIs and titles, maybe PI\n",
    "import urllib\n",
    "from urllib.parse import urlparse\n",
    "# you need this just-in-case for non-english/latin charactersets\n",
    "import unicodedata\n",
    "\n",
    "#outfile = open('D:\\work-related\\pyDataverse\\dvOut2.txt', 'w')\n",
    "with open('D:\\work-related\\pyDataverse\\dvOut.csv', \"w\", encoding=\"utf-8-sig\") as outfile:\n",
    "\n",
    "    #base = 'https://test.dataverse.ucla.edu'\n",
    "    base = 'https://dataverse.ucla.edu/'\n",
    "    #base = 'https://dataverse.harvard.edu/dataverse/ssda_ucla'\n",
    "    print(base)\n",
    "    rows = 10\n",
    "    start = 0\n",
    "    page = 1\n",
    "    condition = True # emulate do-while\n",
    "    outfile = open('D:\\work-related\\pyDataverse\\dataverse-info.csv', 'w', encoding=\"utf-8-sig\")\n",
    "    while (condition):\n",
    "        url = base + '/api/search?q=*' + \"&start=\" + str(start)\n",
    "        # print(url)\n",
    "        data = json.load(urllib.request.urlopen(url))   \n",
    "        # print(data)\n",
    "        total = data['data']['total_count']\n",
    "        #print (\"=== Page\", page, \"===\")\n",
    "        #print (\"start:\", start, \" total:\", total)\n",
    "        for i in data['data']['items']:\n",
    "            if (i['type']) != 'file':\n",
    "                #print (i['name'] + \",\" + i['type'])\n",
    "                line=(\"\\\"\" + i['name'] + \"\\\"\" + \",\"   + \",\" + i['type'] + \",\" + i['url'])\n",
    "                #print(line)\n",
    "                outfile.write(line)\n",
    "                outfile.write(\"\\n\")\n",
    "    \n",
    "        start = start + rows\n",
    "        page += 1\n",
    "        condition = start < total\n",
    "\n",
    "    outfile.close()"
   ]
  },
  {
   "cell_type": "code",
   "execution_count": null,
   "metadata": {},
   "outputs": [],
   "source": []
  }
 ],
 "metadata": {
  "kernelspec": {
   "display_name": "Python 3",
   "language": "python",
   "name": "python3"
  },
  "language_info": {
   "codemirror_mode": {
    "name": "ipython",
    "version": 3
   },
   "file_extension": ".py",
   "mimetype": "text/x-python",
   "name": "python",
   "nbconvert_exporter": "python",
   "pygments_lexer": "ipython3",
   "version": "3.7.10"
  }
 },
 "nbformat": 4,
 "nbformat_minor": 4
}
