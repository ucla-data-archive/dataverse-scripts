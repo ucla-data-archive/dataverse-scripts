{
 "cells": [
  {
   "cell_type": "code",
   "execution_count": 1,
   "id": "express-vintage",
   "metadata": {},
   "outputs": [],
   "source": [
    "# pyDataverse \n",
    "from pyDataverse.api import NativeApi\n",
    "from pyDataverse.models import Datafile\n",
    "df = Datafile()\n",
    "import json   # used to pull in dataverse token"
   ]
  },
  {
   "cell_type": "code",
   "execution_count": 2,
   "id": "loved-lightweight",
   "metadata": {},
   "outputs": [],
   "source": [
    "# setup connection\n",
    "base_url = 'https://dataverse.ucla.edu/'"
   ]
  },
  {
   "cell_type": "code",
   "execution_count": 5,
   "id": "funky-final",
   "metadata": {},
   "outputs": [],
   "source": [
    "# api in separate file\n",
    "with open(\"config.json\") as config:\n",
    "    cfg = json.load(config)\n",
    "# load either dataverse_production or dataverse_test\n",
    "dv_token = cfg['dataverse_production']['api_token']\n",
    "# print(dv_token)\n",
    "api = NativeApi(base_url, dv_token)"
   ]
  },
  {
   "cell_type": "code",
   "execution_count": 6,
   "id": "amber-treat",
   "metadata": {},
   "outputs": [
    {
     "data": {
      "text/plain": [
       "{'status': 'OK', 'data': {'version': '5.3', 'build': '286-fcb5ce7'}}"
      ]
     },
     "execution_count": 6,
     "metadata": {},
     "output_type": "execute_result"
    }
   ],
   "source": [
    "resp = api.get_info_version()\n",
    "resp.json()\n",
    "# 'status': 'OK', 'data': {'version': '4.15.1', 'build': '1377-701b56b'}}"
   ]
  },
  {
   "cell_type": "code",
   "execution_count": 7,
   "id": "featured-lightweight",
   "metadata": {
    "scrolled": true
   },
   "outputs": [
    {
     "data": {
      "text/plain": [
       "200"
      ]
     },
     "execution_count": 7,
     "metadata": {},
     "output_type": "execute_result"
    }
   ],
   "source": [
    "resp.status_code"
   ]
  },
  {
   "cell_type": "code",
   "execution_count": 8,
   "id": "together-enclosure",
   "metadata": {},
   "outputs": [
    {
     "name": "stdout",
     "output_type": "stream",
     "text": [
      "doi:10.25346/S6/T4LHZF\n"
     ]
    },
    {
     "data": {
      "text/plain": [
       "'{\\n  \"description\": \"LARIAC4\",\\n  \"categories\": [\\n    \"LARIAC4\",\\n    \"GIS\",\\n    \"LAS file\",\\n    \"Lidar\"\\n  ],\\n  \"restrict\": true,\\n  \"pid\": \"doi:10.25346/S6/T4LHZF\",\\n  \"filename\": \"L4_6292_1842a.las\"\\n}'"
      ]
     },
     "execution_count": 8,
     "metadata": {},
     "output_type": "execute_result"
    }
   ],
   "source": [
    "# ds_pid = 'doi:10.25346/S6/EZYHS4'  \n",
    "ds_pid = 'doi:10.25346/S6/T4LHZF' \n",
    "print(ds_pid)\n",
    "# df_filename = \"dyeDataSheet_Fennel.doc\"   \n",
    "df_filename = \"L4_6292_1842a.las\"\n",
    "df.set({\"pid\": ds_pid, \"filename\": df_filename, \"description\":\"LARIAC4\", \"contentType\":\"LAS file Lidar\",\"categories\":[\"LARIAC4\", \"GIS\",\"LAS file\", \"Lidar\"],\"restrict\":True})\n",
    "# {\"description\":\"LARIAC4\", \"restrict\":\"false\"}     {'description': ''\n",
    "df.get()\n",
    "df.json()\n",
    "# commented out temporarily - this works\n",
    "#resp = api.upload_datafile(ds_pid, df_filename,  df.json())\n",
    "#resp.json()"
   ]
  },
  {
   "cell_type": "code",
   "execution_count": null,
   "id": "likely-captain",
   "metadata": {},
   "outputs": [],
   "source": []
  },
  {
   "cell_type": "code",
   "execution_count": null,
   "id": "employed-symbol",
   "metadata": {},
   "outputs": [],
   "source": []
  }
 ],
 "metadata": {
  "kernelspec": {
   "display_name": "Python 3",
   "language": "python",
   "name": "python3"
  },
  "language_info": {
   "codemirror_mode": {
    "name": "ipython",
    "version": 3
   },
   "file_extension": ".py",
   "mimetype": "text/x-python",
   "name": "python",
   "nbconvert_exporter": "python",
   "pygments_lexer": "ipython3",
   "version": "3.7.10"
  }
 },
 "nbformat": 4,
 "nbformat_minor": 5
}
