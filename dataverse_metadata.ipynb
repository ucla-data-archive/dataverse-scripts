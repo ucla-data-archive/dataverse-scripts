{
 "cells": [
  {
   "cell_type": "code",
   "execution_count": 2,
   "metadata": {
    "id": "YWna1U_a_jlT"
   },
   "outputs": [],
   "source": [
    "# import pyDataverse\n",
    "#from pyDataverse.api import Api\n",
    "# establish connection\n",
    "# update for version 0.3\n",
    "from pyDataverse.api import NativeApi\n",
    "base_url = 'https://test.dataverse.ucla.edu'\n",
    "with open('D:\\work-related\\dataverse-test-api.txt') as f:\n",
    "     api_token = f.read()\n",
    "f.close()\n",
    "f.closed\n",
    "api = NativeApi(base_url, api_token)\n",
    "# you need this just-in-case for non-english/latin charactersets\n",
    "import unicodedata"
   ]
  },
  {
   "cell_type": "code",
   "execution_count": 3,
   "metadata": {
    "id": "n8vk2qscAVT8"
   },
   "outputs": [],
   "source": [
    "#base_url = 'https://test.dataverse.ucla.edu'"
   ]
  },
  {
   "cell_type": "code",
   "execution_count": 4,
   "metadata": {
    "id": "_KT1p1WzAe4y"
   },
   "outputs": [],
   "source": [
    "#api=Api(base_url)\n",
    "#print(api)"
   ]
  },
  {
   "cell_type": "code",
   "execution_count": 5,
   "metadata": {
    "colab": {
     "base_uri": "https://localhost:8080/",
     "height": 35
    },
    "id": "5tsJ8V7QAhDQ",
    "outputId": "1c6f373b-33c6-49c0-bf96-21b481f94af5"
   },
   "outputs": [
    {
     "data": {
      "text/plain": [
       "{'status': 'OK', 'data': {'version': '5.3', 'build': '286-fcb5ce7'}}"
      ]
     },
     "execution_count": 5,
     "metadata": {},
     "output_type": "execute_result"
    }
   ],
   "source": [
    "# api.status\n",
    "resp = api.get_info_version()\n",
    "resp.json()"
   ]
  },
  {
   "cell_type": "code",
   "execution_count": 6,
   "metadata": {
    "id": "vZ_1RKUGAoZg"
   },
   "outputs": [],
   "source": [
    "# get dataverse\n",
    "dv='dataverse'"
   ]
  },
  {
   "cell_type": "code",
   "execution_count": 7,
   "metadata": {
    "colab": {
     "base_uri": "https://localhost:8080/",
     "height": 289
    },
    "id": "WH0A8GkYArNL",
    "outputId": "d2ba6910-b8f4-4a4c-c523-7fe949350c7e"
   },
   "outputs": [
    {
     "data": {
      "text/plain": [
       "{'status': 'OK',\n",
       " 'data': {'id': 1,\n",
       "  'alias': 'dataverse',\n",
       "  'name': 'UCLA Dataverse Test',\n",
       "  'affiliation': 'UCLA',\n",
       "  'dataverseContacts': [{'displayOrder': 0,\n",
       "    'contactEmail': 'jamison@library.ucla.edu'}],\n",
       "  'permissionRoot': True,\n",
       "  'description': '4.18.1 issue - must have a description for the featured sites to appear',\n",
       "  'dataverseType': 'ORGANIZATIONS_INSTITUTIONS',\n",
       "  'creationDate': '2018-10-01T22:48:48Z',\n",
       "  'theme': {'id': 1,\n",
       "   'linkColor': '428BCA',\n",
       "   'textColor': '888888',\n",
       "   'backgroundColor': 'FFFFFF'},\n",
       "  'storageDriverLabel': 's3-dataverse-main'}}"
      ]
     },
     "execution_count": 7,
     "metadata": {},
     "output_type": "execute_result"
    }
   ],
   "source": [
    "resp=api.get_dataverse(dv)\n",
    "resp.json()"
   ]
  },
  {
   "cell_type": "code",
   "execution_count": 8,
   "metadata": {
    "colab": {
     "base_uri": "https://localhost:8080/",
     "height": 238
    },
    "id": "RgXNj0fUJS-4",
    "outputId": "ae5950bf-6b12-41fa-e6b4-cb63edfb52f4"
   },
   "outputs": [
    {
     "data": {
      "text/plain": [
       "{'status': 'OK',\n",
       " 'data': [{'id': 2,\n",
       "   'displayName': 'Geospatial Metadata',\n",
       "   'name': 'geospatial'},\n",
       "  {'id': 3,\n",
       "   'displayName': 'Social Science and Humanities Metadata',\n",
       "   'name': 'socialscience'},\n",
       "  {'id': 4,\n",
       "   'displayName': 'Astronomy and Astrophysics Metadata',\n",
       "   'name': 'astrophysics'},\n",
       "  {'id': 5, 'displayName': 'Life Sciences Metadata', 'name': 'biomedical'},\n",
       "  {'id': 6, 'displayName': 'Journal Metadata', 'name': 'journal'},\n",
       "  {'id': 1, 'displayName': 'Citation Metadata', 'name': 'citation'}]}"
      ]
     },
     "execution_count": 8,
     "metadata": {},
     "output_type": "execute_result"
    }
   ],
   "source": [
    "resp=api.get_metadatablocks()\n",
    "resp.json()"
   ]
  },
  {
   "cell_type": "code",
   "execution_count": 9,
   "metadata": {
    "colab": {
     "base_uri": "https://localhost:8080/",
     "height": 34
    },
    "id": "e6FsqjRNMUez",
    "outputId": "e68c9650-adeb-4cd7-8bc9-666589845c91"
   },
   "outputs": [],
   "source": [
    "#id='22'\n",
    "#resp=api.get_dataset(id)\n",
    "#resp.json()"
   ]
  },
  {
   "cell_type": "code",
   "execution_count": null,
   "metadata": {
    "colab": {
     "base_uri": "https://localhost:8080/",
     "height": 1000
    },
    "id": "-4Dry9PnAtdZ",
    "outputId": "e9ac258f-49ec-4778-c94a-2499edb35468"
   },
   "outputs": [
    {
     "name": "stdout",
     "output_type": "stream",
     "text": [
      "https://dataverse.ucla.edu/\n",
      "https://dataverse.ucla.edu//api/search?q=*&start=0\n",
      "start: 0  total: 5452\n",
      "Karakax Valley Site 4 - Cosmogenic dating results,dataset\n",
      "Karakax Valley Site 4 - Cosmogenic dating results*dataset*https://doi.org/10.25346/S6/LXHDMJ\n",
      "Karakax Valley Site 1 - Pleiades Digital Elevation Model,dataset\n",
      "Karakax Valley Site 1 - Pleiades Digital Elevation Model*dataset*https://doi.org/10.25346/S6/MSSC65\n",
      "UCLA Registrar Enrollment Data, Winter 1999 - Spring 2020,dataset\n",
      "UCLA Registrar Enrollment Data, Winter 1999 - Spring 2020*dataset*https://doi.org/10.25346/S6/LRV0ES\n",
      "Karakax Valley Site 1 - OSL dating results,dataset\n",
      "Karakax Valley Site 1 - OSL dating results*dataset*https://doi.org/10.25346/S6/NI2QFL\n",
      "https://dataverse.ucla.edu//api/search?q=*&start=10\n",
      "start: 10  total: 5452\n",
      "Gapminder Data,dataset\n",
      "Gapminder Data*dataset*https://doi.org/10.25346/S6/WFC3KG\n",
      "City of Los Angeles: Arrest Data from 2010 to Present,dataset\n",
      "City of Los Angeles: Arrest Data from 2010 to Present*dataset*https://doi.org/10.25346/S6/DE95RT\n",
      "https://dataverse.ucla.edu//api/search?q=*&start=20\n",
      "start: 20  total: 5452\n",
      "Tim Dennis Dataverse,dataverse\n",
      "Tim Dennis Dataverse*dataverse*https://dataverse.ucla.edu/dataverse/timdennis\n",
      "Spring 2020 R Workshop,dataset\n",
      "Spring 2020 R Workshop*dataset*https://doi.org/10.25346/S6/ZJKUAC\n",
      "https://dataverse.ucla.edu//api/search?q=*&start=30\n",
      "start: 30  total: 5452\n",
      "Association of work-family experience with mid- and late-life memory decline in US women - Supplementary File,dataset\n",
      "Association of work-family experience with mid- and late-life memory decline in US women - Supplementary File*dataset*https://doi.org/10.25346/S6/ZR9FRC\n",
      "TIMOTHY TANGHERLINI Dataverse,dataverse\n",
      "TIMOTHY TANGHERLINI Dataverse*dataverse*https://dataverse.ucla.edu/dataverse/tango\n",
      "Mayeda Research Group Dataverse,dataverse\n",
      "Mayeda Research Group Dataverse*dataverse*https://dataverse.ucla.edu/dataverse/mayeda\n",
      "Jamie Jamison,dataverse\n",
      "Jamie Jamison*dataverse*https://dataverse.ucla.edu/dataverse/jmjtest\n",
      "UCLA Library Data Archive,dataverse\n",
      "UCLA Library Data Archive*dataverse*https://dataverse.ucla.edu/dataverse/ucla_dataarchive\n",
      "Dye Plant Class Material,dataverse\n",
      "Dye Plant Class Material*dataverse*https://dataverse.ucla.edu/dataverse/jmj-dye-plant-class\n",
      "Bill and Melinda Gates Foundation Data,dataverse\n",
      "Bill and Melinda Gates Foundation Data*dataverse*https://dataverse.ucla.edu/dataverse/gates-foundation\n",
      "Replication data for: Stable rate of slip along the Karakax section of the Altyn Tagh Fault from observation of inter-glacial and post-glacial offset morphology and surface dating,dataverse\n",
      "Replication data for: Stable rate of slip along the Karakax section of the Altyn Tagh Fault from observation of inter-glacial and post-glacial offset morphology and surface dating*dataverse*https://dataverse.ucla.edu/dataverse/atf_kx_landforms_crn_osl\n",
      "https://dataverse.ucla.edu//api/search?q=*&start=40\n",
      "start: 40  total: 5452\n",
      "NATHAN SMITH Dataverse,dataverse\n",
      "NATHAN SMITH Dataverse*dataverse*https://dataverse.ucla.edu/dataverse/nathan-smith\n",
      "Social Science Data Archive,dataverse\n",
      "Social Science Data Archive*dataverse*https://dataverse.ucla.edu/dataverse/ssda_ucla\n",
      "Gates Open Access Publishing Charges Project,dataset\n",
      "Gates Open Access Publishing Charges Project*dataset*https://doi.org/10.25346/S6/EEFYIP\n",
      "UCLA Open Archive,dataverse\n",
      "UCLA Open Archive*dataverse*https://dataverse.ucla.edu/dataverse/ucla_openarchive\n",
      "test after aws move,dataverse\n",
      "test after aws move*dataverse*https://dataverse.ucla.edu/dataverse/post-move-test2\n",
      "direct upload test DEM,dataset\n",
      "direct upload test DEM*dataset*https://doi.org/10.25346/S6/UJOJHE\n",
      "https://dataverse.ucla.edu//api/search?q=*&start=50\n",
      "start: 50  total: 5452\n",
      "Rapid Analytical Instrumentation for Electrochemical Impedance Spectroscopy Measurements,dataset\n",
      "Rapid Analytical Instrumentation for Electrochemical Impedance Spectroscopy Measurements*dataset*https://doi.org/10.25346/S6/WDRBKE\n",
      "UCLA Mechanical & Aerospace Engineering,dataverse\n",
      "UCLA Mechanical & Aerospace Engineering*dataverse*https://dataverse.ucla.edu/dataverse/mae\n",
      "UCLA Data Science Center,dataverse\n",
      "UCLA Data Science Center*dataverse*https://dataverse.ucla.edu/dataverse/dsc\n",
      "LARIAC5,dataverse\n",
      "LARIAC5*dataverse*https://dataverse.ucla.edu/dataverse/lariac5\n",
      "Reports: Accuracy Assessment,dataset\n",
      "Reports: Accuracy Assessment*dataset*https://doi.org/10.25346/S6/HOFGDJ\n",
      "https://dataverse.ucla.edu//api/search?q=*&start=60\n",
      "start: 60  total: 5452\n",
      "Association of work-family experience with mid- and late-life memory decline in US women - Supplementary File,dataset\n",
      "Association of work-family experience with mid- and late-life memory decline in US women - Supplementary File*dataset*https://doi.org/10.25346/S6/UKL1KC\n",
      "Ortho Imagery Grid Shapefile,dataset\n",
      "Ortho Imagery Grid Shapefile*dataset*https://doi.org/10.25346/S6/XZ36OQ\n",
      "Brain Volume Fractions Across Mammals with Relation to Behavior in Carnivores, Primates, Ungulates, and Rodents Data,dataset\n",
      "Brain Volume Fractions Across Mammals with Relation to Behavior in Carnivores, Primates, Ungulates, and Rodents Data*dataset*https://doi.org/10.25346/S6/GKSJCU\n",
      "Paloma and Associates Open Access Cost Transparency Project Replication Data,dataset\n",
      "Paloma and Associates Open Access Cost Transparency Project Replication Data*dataset*https://doi.org/10.25346/S6/VODY5G\n",
      "https://dataverse.ucla.edu//api/search?q=*&start=70\n",
      "start: 70  total: 5452\n",
      "Intro to R Workshop: Collaboratory,dataset\n",
      "Intro to R Workshop: Collaboratory*dataset*https://doi.org/10.25346/S6/KEBT2O\n",
      "https://dataverse.ucla.edu//api/search?q=*&start=80\n",
      "start: 80  total: 5452\n",
      "Ibraheem Ali's Dataverse,dataverse\n",
      "Ibraheem Ali's Dataverse*dataverse*https://dataverse.ucla.edu/dataverse/iali\n",
      "Isotopologue_data_reduction_Green_Bank,dataset\n",
      "Isotopologue_data_reduction_Green_Bank*dataset*https://doi.org/10.25346/S6/9PSYUU\n",
      "YOUNG LAB Dataverse,dataverse\n",
      "YOUNG LAB Dataverse*dataverse*https://dataverse.ucla.edu/dataverse/Young_Lab\n",
      "20190502redraw,dataset\n",
      "20190502redraw*dataset*https://doi.org/10.25346/S6/9BIIIH\n",
      "https://dataverse.ucla.edu//api/search?q=*&start=90\n",
      "start: 90  total: 5452\n",
      "https://dataverse.ucla.edu//api/search?q=*&start=100\n",
      "start: 100  total: 5452\n",
      "https://dataverse.ucla.edu//api/search?q=*&start=110\n",
      "start: 110  total: 5452\n",
      "https://dataverse.ucla.edu//api/search?q=*&start=120\n",
      "start: 120  total: 5452\n",
      "https://dataverse.ucla.edu//api/search?q=*&start=130\n",
      "start: 130  total: 5452\n",
      "https://dataverse.ucla.edu//api/search?q=*&start=140\n",
      "start: 140  total: 5452\n",
      "https://dataverse.ucla.edu//api/search?q=*&start=150\n",
      "start: 150  total: 5452\n",
      "https://dataverse.ucla.edu//api/search?q=*&start=160\n",
      "start: 160  total: 5452\n",
      "https://dataverse.ucla.edu//api/search?q=*&start=170\n",
      "start: 170  total: 5452\n",
      "https://dataverse.ucla.edu//api/search?q=*&start=180\n",
      "start: 180  total: 5452\n",
      "https://dataverse.ucla.edu//api/search?q=*&start=190\n",
      "start: 190  total: 5452\n",
      "https://dataverse.ucla.edu//api/search?q=*&start=200\n",
      "start: 200  total: 5452\n",
      "WHITE DWARF Dataverse,dataverse\n",
      "WHITE DWARF Dataverse*dataverse*https://dataverse.ucla.edu/dataverse/ucla_whitedwarfs\n",
      "GMOS,dataverse\n",
      "GMOS*dataverse*https://dataverse.ucla.edu/dataverse/ucla_whitedwarf_gmos\n",
      "Data_derived_from_VERB_code_reconstruction_of_Radiation_Belts_Solar_Cycle_17-24,dataset\n",
      "Data_derived_from_VERB_code_reconstruction_of_Radiation_Belts_Solar_Cycle_17-24*dataset*https://doi.org/10.25346/S6/HY1DNT\n",
      "https://dataverse.ucla.edu//api/search?q=*&start=210\n",
      "start: 210  total: 5452\n",
      "https://dataverse.ucla.edu//api/search?q=*&start=220\n",
      "start: 220  total: 5452\n",
      "https://dataverse.ucla.edu//api/search?q=*&start=230\n",
      "start: 230  total: 5452\n",
      "https://dataverse.ucla.edu//api/search?q=*&start=240\n",
      "start: 240  total: 5452\n",
      "Saikin-SpaceWeather-Reconstruction of the Radiation Belts for Solar Cycles 17 – 24 (1933 – 2017),dataverse\n",
      "Saikin-SpaceWeather-Reconstruction of the Radiation Belts for Solar Cycles 17 – 24 (1933 – 2017)*dataverse*https://dataverse.ucla.edu/dataverse/ReconstructionSolarCycles\n",
      "Replication Data for: An automated pipeline for the discovery of conspiracy and conspiracy theory narrative frameworks,dataset\n",
      "Replication Data for: An automated pipeline for the discovery of conspiracy and conspiracy theory narrative frameworks*dataset*https://doi.org/10.25346/S6/VTFXSX\n",
      "Los Angeles Region Imagery Acquisition Consortium (LARIAC),dataverse\n",
      "Los Angeles Region Imagery Acquisition Consortium (LARIAC)*dataverse*https://dataverse.ucla.edu/dataverse/lariac\n",
      "LARIAC4,dataverse\n",
      "LARIAC4*dataverse*https://dataverse.ucla.edu/dataverse/lariac4\n",
      "LARIAC4 Classified_Lidar,dataset\n",
      "LARIAC4 Classified_Lidar*dataset*https://doi.org/10.25346/S6/T4LHZF\n",
      "https://dataverse.ucla.edu//api/search?q=*&start=250\n"
     ]
    }
   ],
   "source": [
    "# example runs but way too many,  just need DOIs and titles, maybe PI\n",
    "from datetime import datetime\n",
    "import sys, re, fileinput\n",
    "import json\n",
    "import requests  # http://docs.python-requests.org/en/master/\n",
    "import pyDataverse\n",
    "from pyDataverse.api import Api\n",
    "# establish connection\n",
    "# example runs but way too many,  just need DOIs and titles, maybe PI\n",
    "import urllib\n",
    "from urllib.parse import urlparse\n",
    "\n",
    "#outfile = open('D:\\work-related\\pyDataverse\\dvOut2.txt', 'w')\n",
    "with open('D:\\work-related\\pyDataverse\\dvOut.csv', \"w\", encoding=\"utf-8\") as outfile:\n",
    "\n",
    "    #base = 'https://test.dataverse.ucla.edu'\n",
    "    base = 'https://dataverse.ucla.edu/'\n",
    "    #base = 'https://dataverse.harvard.edu/dataverse/ssda_ucla'\n",
    "    print(base)\n",
    "    rows = 10\n",
    "    start = 0\n",
    "    page = 1\n",
    "    condition = True # emulate do-while\n",
    "    outfile = open('D:\\work-related\\pyDataverse\\dataverse-info.csv', 'w')\n",
    "    while (condition):\n",
    "        url = base + '/api/search?q=*' + \"&start=\" + str(start)\n",
    "        print(url)\n",
    "        data = json.load(urllib.request.urlopen(url))   \n",
    "        #print(data)\n",
    "        total = data['data']['total_count']\n",
    "        #print (\"=== Page\", page, \"===\")\n",
    "        print (\"start:\", start, \" total:\", total)\n",
    "        for i in data['data']['items']:\n",
    "            if (i['type']) != 'file':\n",
    "                print (i['name'] + \",\" + i['type'])\n",
    "                line=(i['name'] + \"*\" + i['type']+ \"*\" + i['url'])\n",
    "                print(line)\n",
    "                outfile.write(line)\n",
    "                outfile.write(\"\\n\")\n",
    "    \n",
    "        start = start + rows\n",
    "        page += 1\n",
    "        condition = start < total\n",
    "\n",
    "    outfile.close()"
   ]
  },
  {
   "cell_type": "code",
   "execution_count": null,
   "metadata": {
    "id": "97sgDqEWB-Af"
   },
   "outputs": [],
   "source": []
  },
  {
   "cell_type": "code",
   "execution_count": null,
   "metadata": {},
   "outputs": [],
   "source": []
  },
  {
   "cell_type": "code",
   "execution_count": null,
   "metadata": {},
   "outputs": [],
   "source": []
  }
 ],
 "metadata": {
  "colab": {
   "collapsed_sections": [],
   "name": "dataverse-metadata.ipynb",
   "provenance": []
  },
  "kernelspec": {
   "display_name": "Python 3",
   "language": "python",
   "name": "python3"
  },
  "language_info": {
   "codemirror_mode": {
    "name": "ipython",
    "version": 3
   },
   "file_extension": ".py",
   "mimetype": "text/x-python",
   "name": "python",
   "nbconvert_exporter": "python",
   "pygments_lexer": "ipython3",
   "version": "3.7.10"
  }
 },
 "nbformat": 4,
 "nbformat_minor": 4
}
