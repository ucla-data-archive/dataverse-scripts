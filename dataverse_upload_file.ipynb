{
 "cells": [
  {
   "cell_type": "code",
   "execution_count": 11,
   "id": "express-vintage",
   "metadata": {},
   "outputs": [],
   "source": [
    "# pyDataverse \n",
    "from pyDataverse.api import NativeApi\n",
    "from pyDataverse.models import Datafile\n",
    "df = Datafile()"
   ]
  },
  {
   "cell_type": "code",
   "execution_count": 12,
   "id": "funky-final",
   "metadata": {},
   "outputs": [],
   "source": [
    "base_url = 'https://dataverse.ucla.edu/'\n",
    "api_token = '4eae5f4a-1a86-42a1-9764-cbebc0479a31'\n",
    "api = NativeApi(base_url, api_token)"
   ]
  },
  {
   "cell_type": "code",
   "execution_count": 13,
   "id": "amber-treat",
   "metadata": {},
   "outputs": [
    {
     "data": {
      "text/plain": [
       "{'status': 'OK', 'data': {'version': '5.3', 'build': '286-fcb5ce7'}}"
      ]
     },
     "execution_count": 13,
     "metadata": {},
     "output_type": "execute_result"
    }
   ],
   "source": [
    "resp = api.get_info_version()\n",
    "resp.json()\n",
    "# 'status': 'OK', 'data': {'version': '4.15.1', 'build': '1377-701b56b'}}"
   ]
  },
  {
   "cell_type": "code",
   "execution_count": 14,
   "id": "featured-lightweight",
   "metadata": {},
   "outputs": [
    {
     "data": {
      "text/plain": [
       "200"
      ]
     },
     "execution_count": 14,
     "metadata": {},
     "output_type": "execute_result"
    }
   ],
   "source": [
    "resp.status_code"
   ]
  },
  {
   "cell_type": "code",
   "execution_count": null,
   "id": "together-enclosure",
   "metadata": {},
   "outputs": [],
   "source": [
    "df_filename = \"datafile.txt\"\n",
    "#df.set({\"pid\": ds_pid, \"filename\": df_filename})\n",
    "#df.get()\n",
    "#{'pid': 'doi:10.5072/FK2/EO7BNB', 'filename': 'datafile.txt'}\n",
    "#resp = api.upload_datafile(ds_pid, df_filename, df.json())\n",
    "#resp.json()\n",
    "#{'status': 'OK', 'data': {'files': [{'description': '', 'label': 'datafile.txt', \n",
    "#'restricted': False, 'version': 1, 'datasetVersionId': 101, \n",
    "# 'dataFile': {'id': 443, 'persistentId': '', 'pidURL': '', 'filename': 'datafile.txt', \n",
    "#'contentType': 'text/plain', 'filesize': 7, 'description': '', 'storageIdentifier': '176fd85f46f-cf06cf243502', \n",
    "##'rootDataFileId': -1, 'md5': '8b8db3dfa426f6bdb1798d578f5239ae', \n",
    "#'checksum': {'type': 'MD5', 'value': '8b8db3dfa426f6bdb1798d578f5239ae'}, 'creationDate': '2021-01-13'}}]}}"
   ]
  }
 ],
 "metadata": {
  "kernelspec": {
   "display_name": "Python 3",
   "language": "python",
   "name": "python3"
  },
  "language_info": {
   "codemirror_mode": {
    "name": "ipython",
    "version": 3
   },
   "file_extension": ".py",
   "mimetype": "text/x-python",
   "name": "python",
   "nbconvert_exporter": "python",
   "pygments_lexer": "ipython3",
   "version": "3.7.10"
  }
 },
 "nbformat": 4,
 "nbformat_minor": 5
}
