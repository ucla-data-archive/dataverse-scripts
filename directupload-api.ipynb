{
 "cells": [
  {
   "cell_type": "code",
   "execution_count": 21,
   "id": "received-houston",
   "metadata": {},
   "outputs": [],
   "source": [
    "#API_TOKEN=7a20806e-92f5-4928-95c0-53350c8d7848\n",
    "#SERVER_URL=https://dataverse.ucla.edu\n",
    "#PERSISTENT_IDENTIFIER=doi:10.25346/S6/T4LHZF\n",
    "#SIZE=10000000\n",
    "#\n",
    "#"
   ]
  },
  {
   "cell_type": "code",
   "execution_count": 22,
   "id": "broke-representative",
   "metadata": {},
   "outputs": [],
   "source": [
    "# pyDataverse \n",
    "from pyDataverse.api import NativeApi\n",
    "from pyDataverse.models import Datafile\n",
    "df = Datafile()\n",
    "from datetime import datetime\n",
    "import json   # used to pull in dataverse token\n",
    "import requests  # http://docs.python-requests.org/en/master/"
   ]
  },
  {
   "cell_type": "code",
   "execution_count": 23,
   "id": "worthy-grade",
   "metadata": {},
   "outputs": [],
   "source": [
    "# --------------------------------------------------\n",
    "# Update the 4 params below to run this code\n",
    "# --------------------------------------------------\n",
    "dataverse_server = 'https://dataverse.ucla.edu' # no trailing slash\n",
    "api_key = '7a20806e-92f5-4928-95c0-53350c8d7848'\n",
    "dataset_id = 1  # database id of the dataset\n",
    "persistentId = 'doi:10.25346/S6/T4LHZF' # doi or hdl of the dataset\n",
    "SIZE=10000000"
   ]
  },
  {
   "cell_type": "code",
   "execution_count": 24,
   "id": "ignored-facility",
   "metadata": {},
   "outputs": [],
   "source": [
    "# api in separate file\n",
    "with open(\"config.json\") as config:\n",
    "    cfg = json.load(config)\n",
    "# load either dataverse_production or dataverse_test\n",
    "dv_token = cfg['dataverse_production']['api_token']\n",
    "# print(dv_token)\n",
    "#api = NativeApi(base_url, dv_token)\n",
    "#resp = api.get_info_version()\n",
    "#resp.json()\n",
    "# 'status': 'OK', 'data': {'version': '4.15.1', 'build': '1377-701b56b'}}"
   ]
  },
  {
   "cell_type": "code",
   "execution_count": 25,
   "id": "decreased-purpose",
   "metadata": {},
   "outputs": [],
   "source": [
    "# --------------------------------------------------\n",
    "# Prepare \"file\"\n",
    "# --------------------------------------------------\n",
    "file_content = 'content: %s' % datetime.now()\n",
    "files = {'file': ('sample_file.txt', file_content)}\n",
    "\n",
    "# --------------------------------------------------\n",
    "# Using a \"jsonData\" parameter, add optional description + file tags\n",
    "# --------------------------------------------------\n",
    "params = dict(description=\"LARIAC4\", categories=[\"LARIAC4\", \"GIS\",\"LAS file\", \"Lidar\"], contentType=\"LAS file Lidar\", restrict=True)\n",
    "\n",
    "params_as_json_string = json.dumps(params)\n",
    "\n",
    "payload = dict(jsonData=params_as_json_string)\n",
    "\n"
   ]
  },
  {
   "cell_type": "code",
   "execution_count": 28,
   "id": "atomic-tongue",
   "metadata": {},
   "outputs": [
    {
     "name": "stdout",
     "output_type": "stream",
     "text": [
      "making request: https://dataverse.ucla.edu/api/datasets/:persistentId/add?persistentId=doi:10.25346/S6/T4LHZF&key=7a20806e-92f5-4928-95c0-53350c8d7848\n",
      "https://dataverse.ucla.edu/api/datasets/:persistentId/add?persistentId=doi:10.25346/S6/T4LHZF&key=7a20806e-92f5-4928-95c0-53350c8d7848 {'jsonData': '{\"description\": \"LARIAC4\", \"categories\": [\"LARIAC4\", \"GIS\", \"LAS file\", \"Lidar\"], \"contentType\": \"LAS file Lidar\", \"restrict\": true}'} {'file': ('L4_6292_1842a.las', 'content2: 2021-04-12 12:47:27.102009')}\n"
     ]
    }
   ],
   "source": [
    "# --------------------------------------------------\n",
    "# Add file using the Dataset's persistentId (e.g. doi, hdl, etc)\n",
    "# --------------------------------------------------\n",
    "url_persistent_id = '%s/api/datasets/:persistentId/add?persistentId=%s&key=%s' % (dataverse_server, persistentId, api_key)\n",
    "\n",
    "# -------------------\n",
    "# Update the file content to avoid a duplicate file error\n",
    "# -------------------\n",
    "file_content = 'content2: %s' % datetime.now()\n",
    "files = {'file': ('L4_6292_1842a.las', file_content)}\n",
    "\n",
    "\n",
    "# -------------------\n",
    "# Make the request\n",
    "# -------------------\n",
    "\n",
    "print('making request: %s' % url_persistent_id)\n",
    "print(url_persistent_id, payload, files)\n",
    "#r = requests.post(url_persistent_id, data=payload, files=files)\n",
    "\n",
    "# -------------------\n",
    "# Print the response\n",
    "# -------------------\n",
    "\n",
    "#print(r.jsonr.status_code())\n",
    "#print() r.status_code\n",
    "\n",
    "# --------------------------------------------------\n",
    "# Add file using the Dataset's id\n",
    "# --------------------------------------------------\n",
    "#url_dataset_id = '%s/api/datasets/%s/add?key=%s' % (dataverse_server, dataset_id, api_key)\n",
    "#r = requests.post(url_persistent_id, data=payload, files=files)"
   ]
  },
  {
   "cell_type": "code",
   "execution_count": null,
   "id": "treated-clearing",
   "metadata": {},
   "outputs": [],
   "source": [
    "#  Ok, now do this with the directupload api\n",
    "#https://guides.dataverse.org/en/5.4/developers/s3-direct-upload-api.html"
   ]
  },
  {
   "cell_type": "code",
   "execution_count": null,
   "id": "regulation-chassis",
   "metadata": {},
   "outputs": [],
   "source": []
  }
 ],
 "metadata": {
  "kernelspec": {
   "display_name": "Python 3",
   "language": "python",
   "name": "python3"
  },
  "language_info": {
   "codemirror_mode": {
    "name": "ipython",
    "version": 3
   },
   "file_extension": ".py",
   "mimetype": "text/x-python",
   "name": "python",
   "nbconvert_exporter": "python",
   "pygments_lexer": "ipython3",
   "version": "3.7.10"
  }
 },
 "nbformat": 4,
 "nbformat_minor": 5
}
