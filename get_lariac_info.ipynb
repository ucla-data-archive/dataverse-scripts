{
 "cells": [
  {
   "cell_type": "code",
   "execution_count": 37,
   "metadata": {},
   "outputs": [
    {
     "name": "stdout",
     "output_type": "stream",
     "text": [
      "current directory: D:\\work-related\\pyDataverse\n"
     ]
    }
   ],
   "source": [
    "# from pyDataverse documentation: https://pydataverse.readthedocs.io/en/latest/\n",
    "\n",
    "# this code is used to install pydataverse within jupyter notebook\n",
    "# import sys\n",
    "# !{sys.executable} -m pip install pydataverse\n",
    "\n",
    "import pandas as pd\n",
    "#from pyDataverse.api import Api\n",
    "from pyDataverse.api import NativeApi\n",
    "from pyDataverse.models import Dataverse\n",
    "import os  # this is so you can grep the current directory\n",
    "import pprint\n",
    "dirpath = os.getcwd()\n",
    "print(\"current directory: \" + dirpath)\n",
    "os.chdir(dirpath)"
   ]
  },
  {
   "cell_type": "code",
   "execution_count": 38,
   "metadata": {},
   "outputs": [],
   "source": [
    "# establish connection\n",
    "# class Api(base_url, api_token=None, api_version='v1')\n",
    "base_url = 'https://dataverse.ucla.edu/'\n",
    "dv_token = '4eae5f4a-1a86-42a1-9764-cbebc0479a31'\n",
    "#api = Api(base_url, dv_token)\n",
    "api = NativeApi(base_url, dv_token)\n",
    "#api.status"
   ]
  },
  {
   "cell_type": "code",
   "execution_count": 39,
   "metadata": {},
   "outputs": [
    {
     "data": {
      "text/plain": [
       "'2018-09-28T21:46:11Z'"
      ]
     },
     "execution_count": 39,
     "metadata": {},
     "output_type": "execute_result"
    }
   ],
   "source": [
    "# get dataverse\n",
    "#dv = 'ucla'\n",
    "#resp = api.get_dataverse(dv)\n",
    "#resp.json()['data']['creationDate']\n",
    "dv = 'ucla'\n",
    "resp = api.get_dataverse(dv)\n",
    "resp.json()['data']['creationDate']"
   ]
  },
  {
   "cell_type": "code",
   "execution_count": 40,
   "metadata": {},
   "outputs": [
    {
     "name": "stdout",
     "output_type": "stream",
     "text": [
      "identifier:  doi:10.25346/S6/T4LHZF\n",
      "publisher:  UCLA Dataverse\n",
      "LARIAC4 Classified_Lidar\n"
     ]
    }
   ],
   "source": [
    "# get dataset of the lariac4 dataset\n",
    "identifier = 'doi:10.25346/S6/T4LHZF' \n",
    "print(\"identifier: \", identifier)\n",
    "resp = api.get_dataset(identifier)\n",
    "datasetID = resp.json()['data']['publisher']\n",
    "print(\"publisher: \", datasetID)\n",
    "ds_title = resp.json()['data']['latestVersion']['metadataBlocks']['citation']['fields'][0]['value']\n",
    "print(ds_title)"
   ]
  },
  {
   "cell_type": "code",
   "execution_count": 41,
   "metadata": {},
   "outputs": [
    {
     "name": "stdout",
     "output_type": "stream",
     "text": [
      "{'description': 'LARIAC4', 'label': 'L4_6276_1842d.las', 'restricted': True, 'version': 1, 'datasetVersionId': 1268, 'dataFile': {'id': 22171, 'persistentId': 'doi:10.25346/S6/T4LHZF/EASEAT', 'pidURL': 'https://doi.org/10.25346/S6/T4LHZF/EASEAT', 'filename': 'L4_6276_1842d.las', 'contentType': 'application/octet-stream', 'filesize': 117988410, 'description': 'LARIAC4', 'storageIdentifier': 's3-dataverse-lariac-direct://dataverse-lariac-direct:176447636b2-cc4fdc06fbe0', 'rootDataFileId': -1, 'md5': '762868e8c658d932ffd9e06a73bf4472', 'checksum': {'type': 'MD5', 'value': '762868e8c658d932ffd9e06a73bf4472'}, 'creationDate': '2020-12-08'}}\n",
      "9\n",
      "<class 'dict'>\n",
      "dict_keys(['id', 'identifier', 'persistentUrl', 'protocol', 'authority', 'publisher', 'publicationDate', 'storageIdentifier', 'latestVersion'])\n"
     ]
    }
   ],
   "source": [
    "# get list of all datafiles in dataset\n",
    "# The dataset id can be extracted from the response retrieved from the API \n",
    "#      which uses the persistent identifier (/api/datasets/:persistentId/?persistentId=$PERSISTENT_IDENTIFIER).\n",
    "# curl https://dataverse.ucla.edu/api/datasets/21062/versions/3.0/files | jq\n",
    "# check what version you are up to\n",
    "# curl https://dataverse.ucla.edu/api/datasets/21062/versions | jq . > filename.json\n",
    "# curl https://dataverse.ucla.edu/api/datasets/21062/versions | jq\n",
    "# identifier = 'doi:10.25346/S6/T4LHZF'\n",
    "# version = '11.0'\n",
    "#resp = api.get_datafiles(identifier, version)\n",
    "#print(version)\n",
    "resp = api.get_dataset(identifier)\n",
    "datasetID = resp.json()['data']['id']\n",
    "fileOut = resp.json()['data']\n",
    "dataset_name = resp.json()['data']['latestVersion']['files'][9]\n",
    "print(dataset_name)\n",
    "# print(fileOut['latestVersion']['files'])\n",
    "print(len(fileOut))\n",
    "print(type(fileOut))\n",
    "#print(fileOut)\n",
    "print(fileOut.keys()) "
   ]
  },
  {
   "cell_type": "code",
   "execution_count": 42,
   "metadata": {
    "scrolled": true
   },
   "outputs": [],
   "source": [
    "#print(fileOut)"
   ]
  },
  {
   "cell_type": "code",
   "execution_count": 43,
   "metadata": {},
   "outputs": [],
   "source": [
    "import json\n",
    "# output json file\n",
    "with open('fileout2dv.json', 'w') as outfile:\n",
    "    json.dump(fileOut, outfile)"
   ]
  },
  {
   "cell_type": "code",
   "execution_count": 44,
   "metadata": {},
   "outputs": [],
   "source": [
    "import pandas as pd\n",
    "# output csv file - read from the previous json file\n",
    "df = pd.read_json(r'fileout2.json')\n",
    "df.to_csv (r'fileout2.csv')"
   ]
  },
  {
   "cell_type": "code",
   "execution_count": 45,
   "metadata": {},
   "outputs": [],
   "source": [
    "# test downloading file 'bundle'\n",
    "# /api/access/datafiles/$id1,$id2,...$idN\n",
    "# pyDataverse:   get_datafile_bundle(identifier)\n",
    "# identifier is Metadata Id\n",
    "#fileList = 'doi:10.25346/S6/T4LHZF/C9IZ9T, doi:10.25346/S6/T4LHZF/X2XS2C, doi.org/10.25346/S6/T4LHZF/I2NO6V'\n",
    "# get_datafile(identifier, is_pid=True)\n",
    "#file_doi = 'doi:10.25346/S6/T4LHZF/HF0XYG'\n",
    "#file_id = '22175'\n",
    "#resp = api.get_datafile(file_id)\n",
    "#resp.json()"
   ]
  },
  {
   "cell_type": "code",
   "execution_count": 46,
   "metadata": {
    "scrolled": false
   },
   "outputs": [
    {
     "name": "stdout",
     "output_type": "stream",
     "text": [
      "Number of files:  7\n",
      "file id: 21062\n",
      "doi: https://doi.org/10.25346/S6/T4LHZF\n",
      "file label:  L4_6273_1836d.las\n",
      "22178\n",
      "L4_6273_1836d.las ,  22178 ,  doi:10.25346/S6/T4LHZF/HUVC5T ,  https://doi.org/10.25346/S6/T4LHZF/HUVC5T\n"
     ]
    }
   ],
   "source": [
    "# use pprint.pprint to get the structure of the metadata output, then pull out what's necessary for a csv file\n",
    "#import pprint\n",
    "dir(pprint)\n",
    "print(\"Number of files: \", len('fileOut'))\n",
    "print('file id:', fileOut['id'])\n",
    "print('doi:',fileOut['persistentUrl'])\n",
    "file_label = resp.json()['data']['latestVersion']['files'][1]['label']\n",
    "print(\"file label: \", file_label)\n",
    "file_id = resp.json()['data']['latestVersion']['files'][1]['dataFile']['id']\n",
    "print(file_id)\n",
    "file_URL = resp.json()['data']['latestVersion']['files'][1]['dataFile'][\"pidURL\"]\n",
    "file_doi = resp.json()['data']['latestVersion']['files'][1]['dataFile'][\"persistentId\"]\n",
    "print(file_label,\", \",file_id, \", \", file_doi, \", \", file_URL)\n",
    "#print(\"Individual file structure:\")\n",
    "#pprint.pprint(fileOut)"
   ]
  },
  {
   "cell_type": "code",
   "execution_count": 47,
   "metadata": {},
   "outputs": [
    {
     "name": "stdout",
     "output_type": "stream",
     "text": [
      "59  files\n",
      "Today's date: 2021-03-29\n",
      "filelist-20210329-135407.csv\n",
      "0, L4_6273_1836c.las, 22177, doi:10.25346/S6/T4LHZF/JTFKYM, https://doi.org/10.25346/S6/T4LHZF/JTFKYM\n",
      "1, L4_6273_1836d.las, 22178, doi:10.25346/S6/T4LHZF/HUVC5T, https://doi.org/10.25346/S6/T4LHZF/HUVC5T\n",
      "2, L4_6276_1836a.las, 23408, doi:10.25346/S6/T4LHZF/AYVINK, https://doi.org/10.25346/S6/T4LHZF/AYVINK\n",
      "3, L4_6276_1836b.las, 23407, doi:10.25346/S6/T4LHZF/PZXZMJ, https://doi.org/10.25346/S6/T4LHZF/PZXZMJ\n",
      "4, L4_6276_1836c.las, 23405, doi:10.25346/S6/T4LHZF/YXQN5B, https://doi.org/10.25346/S6/T4LHZF/YXQN5B\n",
      "5, L4_6276_1836d.las, 23406, doi:10.25346/S6/T4LHZF/D6MBA1, https://doi.org/10.25346/S6/T4LHZF/D6MBA1\n",
      "6, L4_6276_1842a.las, 22169, doi:10.25346/S6/T4LHZF/3J75IE, https://doi.org/10.25346/S6/T4LHZF/3J75IE\n",
      "7, L4_6276_1842b.las, 22168, doi:10.25346/S6/T4LHZF/5QUJW4, https://doi.org/10.25346/S6/T4LHZF/5QUJW4\n",
      "8, L4_6276_1842c.las, 22170, doi:10.25346/S6/T4LHZF/I2NO6V, https://doi.org/10.25346/S6/T4LHZF/I2NO6V\n",
      "9, L4_6276_1842d.las, 22171, doi:10.25346/S6/T4LHZF/EASEAT, https://doi.org/10.25346/S6/T4LHZF/EASEAT\n",
      "10, L4_6276_1847a.las, 22172, doi:10.25346/S6/T4LHZF/SOEXLW, https://doi.org/10.25346/S6/T4LHZF/SOEXLW\n",
      "11, L4_6276_1847b.las, 22173, doi:10.25346/S6/T4LHZF/X2XS2C, https://doi.org/10.25346/S6/T4LHZF/X2XS2C\n",
      "12, L4_6276_1847c.las, 22174, doi:10.25346/S6/T4LHZF/HF0XYG, https://doi.org/10.25346/S6/T4LHZF/HF0XYG\n",
      "13, L4_6276_1847d.las, 22175, doi:10.25346/S6/T4LHZF/C9IZ9T, https://doi.org/10.25346/S6/T4LHZF/C9IZ9T\n",
      "14, L4_6276_1852a.las, 23409, doi:10.25346/S6/T4LHZF/OQB7CC, https://doi.org/10.25346/S6/T4LHZF/OQB7CC\n",
      "15, L4_6276_1852d.las, 23410, doi:10.25346/S6/T4LHZF/7QYV4A, https://doi.org/10.25346/S6/T4LHZF/7QYV4A\n",
      "16, L4_6281_1836a.las, 23413, doi:10.25346/S6/T4LHZF/31DKBA, https://doi.org/10.25346/S6/T4LHZF/31DKBA\n",
      "17, L4_6281_1836b.las, 23412, doi:10.25346/S6/T4LHZF/ND7WD8, https://doi.org/10.25346/S6/T4LHZF/ND7WD8\n",
      "18, L4_6281_1836c.las, 23415, doi:10.25346/S6/T4LHZF/IEIKLG, https://doi.org/10.25346/S6/T4LHZF/IEIKLG\n",
      "19, L4_6281_1836d.las, 23416, doi:10.25346/S6/T4LHZF/DFMQXZ, https://doi.org/10.25346/S6/T4LHZF/DFMQXZ\n",
      "20, L4_6281_1842a.las, 23414, doi:10.25346/S6/T4LHZF/9GNHYZ, https://doi.org/10.25346/S6/T4LHZF/9GNHYZ\n",
      "21, L4_6281_1842b.las, 23411, doi:10.25346/S6/T4LHZF/NJ5DKB, https://doi.org/10.25346/S6/T4LHZF/NJ5DKB\n",
      "22, L4_6281_1842c.las, 23421, doi:10.25346/S6/T4LHZF/NAYUNW, https://doi.org/10.25346/S6/T4LHZF/NAYUNW\n",
      "23, L4_6281_1842d.las, 23420, doi:10.25346/S6/T4LHZF/3WW637, https://doi.org/10.25346/S6/T4LHZF/3WW637\n",
      "24, L4_6281_1847a.las, 23422, doi:10.25346/S6/T4LHZF/9DB1YE, https://doi.org/10.25346/S6/T4LHZF/9DB1YE\n",
      "25, L4_6281_1847b.las, 23419, doi:10.25346/S6/T4LHZF/SHT7KZ, https://doi.org/10.25346/S6/T4LHZF/SHT7KZ\n",
      "26, L4_6281_1847c.las, 23417, doi:10.25346/S6/T4LHZF/ZGQVTV, https://doi.org/10.25346/S6/T4LHZF/ZGQVTV\n",
      "27, L4_6281_1847d.las, 23418, doi:10.25346/S6/T4LHZF/PGPAZM, https://doi.org/10.25346/S6/T4LHZF/PGPAZM\n",
      "28, L4_6281_1852a.las, 23423, doi:10.25346/S6/T4LHZF/AD2AQ2, https://doi.org/10.25346/S6/T4LHZF/AD2AQ2\n",
      "29, L4_6281_1852b.las, 23424, doi:10.25346/S6/T4LHZF/UNDBRU, https://doi.org/10.25346/S6/T4LHZF/UNDBRU\n",
      "30, L4_6281_1852c.las, 23427, doi:10.25346/S6/T4LHZF/VT6UMR, https://doi.org/10.25346/S6/T4LHZF/VT6UMR\n",
      "31, L4_6281_1852d.las, 23426, doi:10.25346/S6/T4LHZF/UMGOL1, https://doi.org/10.25346/S6/T4LHZF/UMGOL1\n",
      "32, L4_6281_1857d.las, 23425, doi:10.25346/S6/T4LHZF/SY4P96, https://doi.org/10.25346/S6/T4LHZF/SY4P96\n",
      "33, L4_6286_1836a.las, 23430, doi:10.25346/S6/T4LHZF/RAXRMJ, https://doi.org/10.25346/S6/T4LHZF/RAXRMJ\n",
      "34, L4_6286_1836b.las, 23428, doi:10.25346/S6/T4LHZF/RRCPZ4, https://doi.org/10.25346/S6/T4LHZF/RRCPZ4\n",
      "35, L4_6286_1836c.las, 23429, doi:10.25346/S6/T4LHZF/GWJIOL, https://doi.org/10.25346/S6/T4LHZF/GWJIOL\n",
      "36, L4_6286_1836d.las, 23431, doi:10.25346/S6/T4LHZF/VAVPNF, https://doi.org/10.25346/S6/T4LHZF/VAVPNF\n",
      "37, L4_6286_1842a.las, 23432, doi:10.25346/S6/T4LHZF/QQ759X, https://doi.org/10.25346/S6/T4LHZF/QQ759X\n",
      "38, L4_6286_1842b.las, 23433, doi:10.25346/S6/T4LHZF/AQAOSQ, https://doi.org/10.25346/S6/T4LHZF/AQAOSQ\n",
      "39, L4_6286_1842c.las, 23434, doi:10.25346/S6/T4LHZF/QP1M8P, https://doi.org/10.25346/S6/T4LHZF/QP1M8P\n",
      "40, L4_6286_1842d.las, 23435, doi:10.25346/S6/T4LHZF/ZILEA1, https://doi.org/10.25346/S6/T4LHZF/ZILEA1\n",
      "41, L4_6286_1847a.las, 23437, doi:10.25346/S6/T4LHZF/OPVFR6, https://doi.org/10.25346/S6/T4LHZF/OPVFR6\n",
      "42, L4_6286_1847b.las, 23439, doi:10.25346/S6/T4LHZF/CC4KXD, https://doi.org/10.25346/S6/T4LHZF/CC4KXD\n",
      "43, L4_6286_1847c.las, 23436, doi:10.25346/S6/T4LHZF/8NJ8FV, https://doi.org/10.25346/S6/T4LHZF/8NJ8FV\n",
      "44, L4_6286_1847d.las, 23438, doi:10.25346/S6/T4LHZF/SIGRA5, https://doi.org/10.25346/S6/T4LHZF/SIGRA5\n",
      "45, L4_6286_1852a.las, 23442, doi:10.25346/S6/T4LHZF/DNQCYI, https://doi.org/10.25346/S6/T4LHZF/DNQCYI\n",
      "46, L4_6286_1852b.las, 23440, doi:10.25346/S6/T4LHZF/6NAVTC, https://doi.org/10.25346/S6/T4LHZF/6NAVTC\n",
      "47, L4_6286_1852c.las, 23443, doi:10.25346/S6/T4LHZF/YIYKLP, https://doi.org/10.25346/S6/T4LHZF/YIYKLP\n",
      "48, L4_6286_1852d.las, 23441, doi:10.25346/S6/T4LHZF/JFEXLF, https://doi.org/10.25346/S6/T4LHZF/JFEXLF\n",
      "49, L4_6286_1857a.las, 23446, doi:10.25346/S6/T4LHZF/ZYGMHN, https://doi.org/10.25346/S6/T4LHZF/ZYGMHN\n",
      "50, L4_6286_1857b.las, 23444, doi:10.25346/S6/T4LHZF/DY8JPQ, https://doi.org/10.25346/S6/T4LHZF/DY8JPQ\n",
      "51, L4_6286_1857c.las, 23447, doi:10.25346/S6/T4LHZF/XARZJ5, https://doi.org/10.25346/S6/T4LHZF/XARZJ5\n",
      "52, L4_6286_1857d.las, 23445, doi:10.25346/S6/T4LHZF/M3CNFK, https://doi.org/10.25346/S6/T4LHZF/M3CNFK\n",
      "53, L4_6292_1831c.las, 23448, doi:10.25346/S6/T4LHZF/IJYKZ5, https://doi.org/10.25346/S6/T4LHZF/IJYKZ5\n",
      "54, L4_6292_1836a.las, 23449, doi:10.25346/S6/T4LHZF/YGMUDB, https://doi.org/10.25346/S6/T4LHZF/YGMUDB\n",
      "55, L4_6292_1836b.las, 23452, doi:10.25346/S6/T4LHZF/EMTPJX, https://doi.org/10.25346/S6/T4LHZF/EMTPJX\n",
      "56, L4_6292_1836c.las, 23451, doi:10.25346/S6/T4LHZF/5F9NV6, https://doi.org/10.25346/S6/T4LHZF/5F9NV6\n",
      "57, L4_6292_1836d.las, 23450, doi:10.25346/S6/T4LHZF/0PMIR3, https://doi.org/10.25346/S6/T4LHZF/0PMIR3\n",
      "58, stignore, 22176, doi:10.25346/S6/T4LHZF/Q5K2FW, https://doi.org/10.25346/S6/T4LHZF/Q5K2FW\n"
     ]
    }
   ],
   "source": [
    "from datetime import date\n",
    "total_files = (len(resp.json()['data']['latestVersion']['files']))\n",
    "print(total_files, \" files\")\n",
    "n = 0\n",
    "today = date.today()\n",
    "print(\"Today's date:\", today)\n",
    "filename1 = datetime.datetime.now().strftime(\"%Y%m%d-%H%M%S\") \n",
    "filename1 = 'filelist-' + filename1+'.csv'\n",
    "print(filename1)\n",
    "\n",
    "f = open(filename1, 'w')\n",
    "while  n <= (total_files-1):\n",
    "    #print(n)\n",
    "    file_label = resp.json()['data']['latestVersion']['files'][n]['label']\n",
    "    #print(\"file label: \", file_label)\n",
    "    file_id = resp.json()['data']['latestVersion']['files'][n]['dataFile']['id']\n",
    "    #print(file_id)\n",
    "    file_URL = resp.json()['data']['latestVersion']['files'][n]['dataFile'][\"pidURL\"]\n",
    "    #print(file_URL)\n",
    "    file_doi = resp.json()['data']['latestVersion']['files'][n]['dataFile'][\"persistentId\"]\n",
    "    #print(file_doi)\n",
    "    #line=\"\"\n",
    "    #line=n,file_label, file_id, file_doi ,file_URL\n",
    "    #','.join(str(line))\n",
    "    #line = str(n + file_label + file_id + file_doi + file_URL)\n",
    "    #print(line)\n",
    "    print(str(n) + \", \" + file_label + \", \" + str(file_id) + \", \" + file_doi + \", \" + file_URL)\n",
    "    #f.write(str(line))\n",
    "    f.write(str(n) + \", \" + file_label + \", \" + str(file_id) + \", \" + file_doi + \", \" + file_URL)\n",
    "    f.write(\"\\n\")\n",
    "    n = n+1\n",
    "f.close()"
   ]
  },
  {
   "cell_type": "code",
   "execution_count": 48,
   "metadata": {},
   "outputs": [
    {
     "name": "stdout",
     "output_type": "stream",
     "text": [
      "Today's date: 2021-03-29\n",
      "filelist-20210329-135408.csv\n"
     ]
    }
   ],
   "source": [
    "# eventually concat this to the output file to differentiate\n",
    "from datetime import date\n",
    "today = date.today()\n",
    "print(\"Today's date:\", today)\n",
    "filename1 = datetime.datetime.now().strftime(\"%Y%m%d-%H%M%S\") \n",
    "filename1 = 'filelist-' + filename1+'.csv'\n",
    "print(filename1)"
   ]
  },
  {
   "cell_type": "code",
   "execution_count": null,
   "metadata": {},
   "outputs": [],
   "source": []
  },
  {
   "cell_type": "code",
   "execution_count": null,
   "metadata": {},
   "outputs": [],
   "source": []
  }
 ],
 "metadata": {
  "kernelspec": {
   "display_name": "Python 3",
   "language": "python",
   "name": "python3"
  },
  "language_info": {
   "codemirror_mode": {
    "name": "ipython",
    "version": 3
   },
   "file_extension": ".py",
   "mimetype": "text/x-python",
   "name": "python",
   "nbconvert_exporter": "python",
   "pygments_lexer": "ipython3",
   "version": "3.7.10"
  }
 },
 "nbformat": 4,
 "nbformat_minor": 4
}
