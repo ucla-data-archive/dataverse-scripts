{
 "cells": [
  {
   "cell_type": "code",
   "execution_count": 43,
   "metadata": {},
   "outputs": [
    {
     "name": "stdout",
     "output_type": "stream",
     "text": [
      "current directory: D:\\work-related\\pyDataverse\n"
     ]
    }
   ],
   "source": [
    "# from pyDataverse documentation: https://pydataverse.readthedocs.io/en/latest/\n",
    "\n",
    "# this code is used to install pydataverse within jupyter notebook\n",
    "# import sys\n",
    "# !{sys.executable} -m pip install pydataverse\n",
    "\n",
    "import pandas as pd\n",
    "#from pyDataverse.api import Api\n",
    "from pyDataverse.api import NativeApi\n",
    "from pyDataverse.models import Dataverse\n",
    "import os  # this is so you can grep the current directory\n",
    "import pprint\n",
    "dirpath = os.getcwd()\n",
    "print(\"current directory: \" + dirpath)\n",
    "os.chdir(dirpath)\n",
    "import datetime"
   ]
  },
  {
   "cell_type": "code",
   "execution_count": 44,
   "metadata": {},
   "outputs": [],
   "source": [
    "# establish connection\n",
    "# class Api(base_url, api_token=None, api_version='v1')\n",
    "base_url = 'https://dataverse.ucla.edu/'\n",
    "dv_token = '7a20806e-92f5-4928-95c0-53350c8d7848'\n",
    "#api = Api(base_url, dv_token)\n",
    "api = NativeApi(base_url, dv_token)\n",
    "#api.status"
   ]
  },
  {
   "cell_type": "code",
   "execution_count": 45,
   "metadata": {},
   "outputs": [
    {
     "data": {
      "text/plain": [
       "'2018-09-28T21:46:11Z'"
      ]
     },
     "execution_count": 45,
     "metadata": {},
     "output_type": "execute_result"
    }
   ],
   "source": [
    "# get dataverse\n",
    "#dv = 'ucla'\n",
    "#resp = api.get_dataverse(dv)\n",
    "#resp.json()['data']['creationDate']\n",
    "dv = 'ucla'\n",
    "resp = api.get_dataverse(dv)\n",
    "resp.json()['data']['creationDate']"
   ]
  },
  {
   "cell_type": "code",
   "execution_count": 46,
   "metadata": {},
   "outputs": [
    {
     "name": "stdout",
     "output_type": "stream",
     "text": [
      "identifier:  doi:10.25346/S6/T4LHZF\n",
      "publisher:  UCLA Dataverse\n",
      "LARIAC4 Classified_Lidar\n",
      "21062\n"
     ]
    }
   ],
   "source": [
    "# get dataset of the lariac4 dataset\n",
    "identifier = 'doi:10.25346/S6/T4LHZF' \n",
    "print(\"identifier: \", identifier)\n",
    "resp = api.get_dataset(identifier)\n",
    "datasetID = resp.json()['data']['publisher']\n",
    "print(\"publisher: \", datasetID)\n",
    "ds_title = resp.json()['data']['latestVersion']['metadataBlocks']['citation']['fields'][0]['value']\n",
    "print(ds_title)\n",
    "ds_id = resp.json()['data']['id']\n",
    "print(ds_id)"
   ]
  },
  {
   "cell_type": "code",
   "execution_count": 47,
   "metadata": {},
   "outputs": [
    {
     "name": "stdout",
     "output_type": "stream",
     "text": [
      "{'description': 'LARIAC4', 'label': 'L4_6276_1842d.las', 'restricted': True, 'version': 1, 'datasetVersionId': 1268, 'dataFile': {'id': 22171, 'persistentId': 'doi:10.25346/S6/T4LHZF/EASEAT', 'pidURL': 'https://doi.org/10.25346/S6/T4LHZF/EASEAT', 'filename': 'L4_6276_1842d.las', 'contentType': 'application/octet-stream', 'filesize': 117988410, 'description': 'LARIAC4', 'storageIdentifier': 's3-dataverse-lariac-direct://dataverse-lariac-direct:176447636b2-cc4fdc06fbe0', 'rootDataFileId': -1, 'md5': '762868e8c658d932ffd9e06a73bf4472', 'checksum': {'type': 'MD5', 'value': '762868e8c658d932ffd9e06a73bf4472'}, 'creationDate': '2020-12-08'}}\n",
      "[{'description': 'LARIAC4', 'label': 'L4_6273_1836c.las', 'restricted': True, 'version': 1, 'datasetVersionId': 1268, 'dataFile': {'id': 22177, 'persistentId': 'doi:10.25346/S6/T4LHZF/JTFKYM', 'pidURL': 'https://doi.org/10.25346/S6/T4LHZF/JTFKYM', 'filename': 'L4_6273_1836c.las', 'contentType': 'application/octet-stream', 'filesize': 67775266, 'description': 'LARIAC4', 'storageIdentifier': 's3-dataverse-lariac-direct://dataverse-lariac-direct:17663faeefd-26749d046e96', 'rootDataFileId': -1, 'md5': 'baddd06eadad6b2ca881f3ac3f7f9d45', 'checksum': {'type': 'MD5', 'value': 'baddd06eadad6b2ca881f3ac3f7f9d45'}, 'creationDate': '2020-12-15'}}, {'description': 'LARIAC4', 'label': 'L4_6273_1836d.las', 'restricted': True, 'version': 1, 'datasetVersionId': 1268, 'dataFile': {'id': 22178, 'persistentId': 'doi:10.25346/S6/T4LHZF/HUVC5T', 'pidURL': 'https://doi.org/10.25346/S6/T4LHZF/HUVC5T', 'filename': 'L4_6273_1836d.las', 'contentType': 'application/octet-stream', 'filesize': 29410579, 'description': 'LARIAC4', 'storageIdentifier': 's3-dataverse-lariac-direct://dataverse-lariac-direct:17663faf02f-10c94412278f', 'rootDataFileId': -1, 'md5': '2387e9eb285949336a018c89dd7423bc', 'checksum': {'type': 'MD5', 'value': '2387e9eb285949336a018c89dd7423bc'}, 'creationDate': '2020-12-15'}}, {'description': 'LARIAC4', 'label': 'L4_6276_1836a.las', 'restricted': True, 'version': 1, 'datasetVersionId': 1268, 'dataFile': {'id': 23408, 'persistentId': 'doi:10.25346/S6/T4LHZF/AYVINK', 'pidURL': 'https://doi.org/10.25346/S6/T4LHZF/AYVINK', 'filename': 'L4_6276_1836a.las', 'contentType': 'application/octet-stream', 'filesize': 28220940, 'description': 'LARIAC4', 'storageIdentifier': 's3-dataverse-lariac-direct://dataverse-lariac-direct:176d3884c6f-83f797530a58', 'rootDataFileId': -1, 'md5': '28f0f909a0095d55c4fd789cb376621e', 'checksum': {'type': 'MD5', 'value': '28f0f909a0095d55c4fd789cb376621e'}, 'creationDate': '2021-01-05'}}, {'description': 'LARIAC4', 'label': 'L4_6276_1836b.las', 'restricted': True, 'version': 1, 'datasetVersionId': 1268, 'dataFile': {'id': 23407, 'persistentId': 'doi:10.25346/S6/T4LHZF/PZXZMJ', 'pidURL': 'https://doi.org/10.25346/S6/T4LHZF/PZXZMJ', 'filename': 'L4_6276_1836b.las', 'contentType': 'application/octet-stream', 'filesize': 104529750, 'description': 'LARIAC4', 'storageIdentifier': 's3-dataverse-lariac-direct://dataverse-lariac-direct:176d3884da3-616619ce27f4', 'rootDataFileId': -1, 'md5': 'b6cfa19aa0f8844eaae7282b3f384d0f', 'checksum': {'type': 'MD5', 'value': 'b6cfa19aa0f8844eaae7282b3f384d0f'}, 'creationDate': '2021-01-05'}}, {'description': 'LARIAC4', 'label': 'L4_6276_1836c.las', 'restricted': True, 'version': 1, 'datasetVersionId': 1268, 'dataFile': {'id': 23405, 'persistentId': 'doi:10.25346/S6/T4LHZF/YXQN5B', 'pidURL': 'https://doi.org/10.25346/S6/T4LHZF/YXQN5B', 'filename': 'L4_6276_1836c.las', 'contentType': 'application/octet-stream', 'filesize': 73226580, 'description': 'LARIAC4', 'storageIdentifier': 's3-dataverse-lariac-direct://dataverse-lariac-direct:176d3884edb-1fd28f53da8f', 'rootDataFileId': -1, 'md5': '92ca978554bce3b0d82e2532e289da99', 'checksum': {'type': 'MD5', 'value': '92ca978554bce3b0d82e2532e289da99'}, 'creationDate': '2021-01-05'}}, {'description': 'LARIAC4', 'label': 'L4_6276_1836d.las', 'restricted': True, 'version': 2, 'datasetVersionId': 1268, 'dataFile': {'id': 23406, 'persistentId': 'doi:10.25346/S6/T4LHZF/D6MBA1', 'pidURL': 'https://doi.org/10.25346/S6/T4LHZF/D6MBA1', 'filename': 'L4_6276_1836d.las', 'contentType': 'application/octet-stream', 'filesize': 29616390, 'description': 'LARIAC4', 'storageIdentifier': 's3-dataverse-lariac-direct://dataverse-lariac-direct:176d38850b5-0b8b112da258', 'rootDataFileId': -1, 'md5': '582e7a64bee9887ecce6053835766a89', 'checksum': {'type': 'MD5', 'value': '582e7a64bee9887ecce6053835766a89'}, 'creationDate': '2021-01-05'}}, {'description': 'LARIAC4', 'label': 'L4_6276_1842a.las', 'restricted': True, 'version': 1, 'datasetVersionId': 1268, 'dataFile': {'id': 22169, 'persistentId': 'doi:10.25346/S6/T4LHZF/3J75IE', 'pidURL': 'https://doi.org/10.25346/S6/T4LHZF/3J75IE', 'filename': 'L4_6276_1842a.las', 'contentType': 'application/octet-stream', 'filesize': 115663219, 'description': 'LARIAC4', 'storageIdentifier': 's3-dataverse-lariac-direct://dataverse-lariac-direct:1764471c322-e7703eb35bd0', 'rootDataFileId': -1, 'md5': 'd1328655010d4417ee4076b0e29f8362', 'checksum': {'type': 'MD5', 'value': 'd1328655010d4417ee4076b0e29f8362'}, 'creationDate': '2020-12-08'}}, {'description': 'LARIAC4', 'label': 'L4_6276_1842b.las', 'restricted': True, 'version': 1, 'datasetVersionId': 1268, 'dataFile': {'id': 22168, 'persistentId': 'doi:10.25346/S6/T4LHZF/5QUJW4', 'pidURL': 'https://doi.org/10.25346/S6/T4LHZF/5QUJW4', 'filename': 'L4_6276_1842b.las', 'contentType': 'application/octet-stream', 'filesize': 240915409, 'description': 'LARIAC4', 'storageIdentifier': 's3-dataverse-lariac-direct://dataverse-lariac-direct:176447633ea-68facc439f12', 'rootDataFileId': -1, 'md5': '0c0788b787d97374aed0ca6310e47e36', 'checksum': {'type': 'MD5', 'value': '0c0788b787d97374aed0ca6310e47e36'}, 'creationDate': '2020-12-08'}}, {'description': 'LARIAC4', 'label': 'L4_6276_1842c.las', 'restricted': True, 'version': 1, 'datasetVersionId': 1268, 'dataFile': {'id': 22170, 'persistentId': 'doi:10.25346/S6/T4LHZF/I2NO6V', 'pidURL': 'https://doi.org/10.25346/S6/T4LHZF/I2NO6V', 'filename': 'L4_6276_1842c.las', 'contentType': 'application/octet-stream', 'filesize': 280413739, 'description': 'LARIAC4', 'storageIdentifier': 's3-dataverse-lariac-direct://dataverse-lariac-direct:17644763572-7a1697e72f6e', 'rootDataFileId': -1, 'md5': '2a27cc63bf9dc1007020e3c06d447bf9', 'checksum': {'type': 'MD5', 'value': '2a27cc63bf9dc1007020e3c06d447bf9'}, 'creationDate': '2020-12-08'}}, {'description': 'LARIAC4', 'label': 'L4_6276_1842d.las', 'restricted': True, 'version': 1, 'datasetVersionId': 1268, 'dataFile': {'id': 22171, 'persistentId': 'doi:10.25346/S6/T4LHZF/EASEAT', 'pidURL': 'https://doi.org/10.25346/S6/T4LHZF/EASEAT', 'filename': 'L4_6276_1842d.las', 'contentType': 'application/octet-stream', 'filesize': 117988410, 'description': 'LARIAC4', 'storageIdentifier': 's3-dataverse-lariac-direct://dataverse-lariac-direct:176447636b2-cc4fdc06fbe0', 'rootDataFileId': -1, 'md5': '762868e8c658d932ffd9e06a73bf4472', 'checksum': {'type': 'MD5', 'value': '762868e8c658d932ffd9e06a73bf4472'}, 'creationDate': '2020-12-08'}}, {'description': 'LARIAC4', 'label': 'L4_6276_1847a.las', 'restricted': True, 'version': 1, 'datasetVersionId': 1268, 'dataFile': {'id': 22172, 'persistentId': 'doi:10.25346/S6/T4LHZF/SOEXLW', 'pidURL': 'https://doi.org/10.25346/S6/T4LHZF/SOEXLW', 'filename': 'L4_6276_1847a.las', 'contentType': 'application/octet-stream', 'filesize': 282049996, 'description': 'LARIAC4', 'storageIdentifier': 's3-dataverse-lariac-direct://dataverse-lariac-direct:1764488d05b-2d7d896894a0', 'rootDataFileId': -1, 'md5': '2b9f3ee76548eb7918adec381d6b2662', 'checksum': {'type': 'MD5', 'value': '2b9f3ee76548eb7918adec381d6b2662'}, 'creationDate': '2020-12-08'}}, {'description': 'LARIAC4', 'label': 'L4_6276_1847b.las', 'restricted': True, 'version': 1, 'datasetVersionId': 1268, 'dataFile': {'id': 22173, 'persistentId': 'doi:10.25346/S6/T4LHZF/X2XS2C', 'pidURL': 'https://doi.org/10.25346/S6/T4LHZF/X2XS2C', 'filename': 'L4_6276_1847b.las', 'contentType': 'application/octet-stream', 'filesize': 227213820, 'description': 'LARIAC4', 'storageIdentifier': 's3-dataverse-lariac-direct://dataverse-lariac-direct:1764488d19d-5f18857f58b6', 'rootDataFileId': -1, 'md5': 'f726f25b2dd1fee77147ceb1014ce992', 'checksum': {'type': 'MD5', 'value': 'f726f25b2dd1fee77147ceb1014ce992'}, 'creationDate': '2020-12-08'}}, {'description': 'LARIAC4', 'label': 'L4_6276_1847c.las', 'restricted': True, 'version': 1, 'datasetVersionId': 1268, 'dataFile': {'id': 22174, 'persistentId': 'doi:10.25346/S6/T4LHZF/HF0XYG', 'pidURL': 'https://doi.org/10.25346/S6/T4LHZF/HF0XYG', 'filename': 'L4_6276_1847c.las', 'contentType': 'application/octet-stream', 'filesize': 243142429, 'description': 'LARIAC4', 'storageIdentifier': 's3-dataverse-lariac-direct://dataverse-lariac-direct:1764488d2c4-d83f8ea25484', 'rootDataFileId': -1, 'md5': '821503e94affb85cad7d9abd350567fa', 'checksum': {'type': 'MD5', 'value': '821503e94affb85cad7d9abd350567fa'}, 'creationDate': '2020-12-08'}}, {'description': 'LARIAC4', 'label': 'L4_6276_1847d.las', 'restricted': True, 'version': 1, 'datasetVersionId': 1268, 'dataFile': {'id': 22175, 'persistentId': 'doi:10.25346/S6/T4LHZF/C9IZ9T', 'pidURL': 'https://doi.org/10.25346/S6/T4LHZF/C9IZ9T', 'filename': 'L4_6276_1847d.las', 'contentType': 'application/octet-stream', 'filesize': 317255940, 'description': 'LARIAC4', 'storageIdentifier': 's3-dataverse-lariac-direct://dataverse-lariac-direct:1764488d48c-f57c9ad76536', 'rootDataFileId': -1, 'md5': '54d22faa2f4fe53b6dc19960adb8d540', 'checksum': {'type': 'MD5', 'value': '54d22faa2f4fe53b6dc19960adb8d540'}, 'creationDate': '2020-12-08'}}, {'description': 'LARIAC4', 'label': 'L4_6276_1852a.las', 'restricted': True, 'version': 1, 'datasetVersionId': 1268, 'dataFile': {'id': 23409, 'persistentId': 'doi:10.25346/S6/T4LHZF/OQB7CC', 'pidURL': 'https://doi.org/10.25346/S6/T4LHZF/OQB7CC', 'filename': 'L4_6276_1852a.las', 'contentType': 'application/octet-stream', 'filesize': 261550609, 'description': 'LARIAC4', 'storageIdentifier': 's3-dataverse-lariac-direct://dataverse-lariac-direct:176d391a603-ccbe4a2c272c', 'rootDataFileId': -1, 'md5': '6f5555918836cea7f7db4c8640a0547d', 'checksum': {'type': 'MD5', 'value': '6f5555918836cea7f7db4c8640a0547d'}, 'creationDate': '2021-01-05'}}, {'description': 'LARIAC4', 'label': 'L4_6276_1852d.las', 'restricted': True, 'version': 1, 'datasetVersionId': 1268, 'dataFile': {'id': 23410, 'persistentId': 'doi:10.25346/S6/T4LHZF/7QYV4A', 'pidURL': 'https://doi.org/10.25346/S6/T4LHZF/7QYV4A', 'filename': 'L4_6276_1852d.las', 'contentType': 'application/octet-stream', 'filesize': 286326169, 'description': 'LARIAC4', 'storageIdentifier': 's3-dataverse-lariac-direct://dataverse-lariac-direct:176d391a72c-83fb071dcea7', 'rootDataFileId': -1, 'md5': '35a1fadf2f74fd20e5ed3228b8b0d503', 'checksum': {'type': 'MD5', 'value': '35a1fadf2f74fd20e5ed3228b8b0d503'}, 'creationDate': '2021-01-05'}}, {'description': 'LARIAC4', 'label': 'L4_6281_1836a.las', 'restricted': True, 'version': 1, 'datasetVersionId': 1268, 'dataFile': {'id': 23413, 'persistentId': 'doi:10.25346/S6/T4LHZF/31DKBA', 'pidURL': 'https://doi.org/10.25346/S6/T4LHZF/31DKBA', 'filename': 'L4_6281_1836a.las', 'contentType': 'application/octet-stream', 'filesize': 29559090, 'description': 'LARIAC4', 'storageIdentifier': 's3-dataverse-lariac-direct://dataverse-lariac-direct:176d3a48efc-11e0897164c3', 'rootDataFileId': -1, 'md5': 'e50299bee2eb401e357c94b2c619d8a5', 'checksum': {'type': 'MD5', 'value': 'e50299bee2eb401e357c94b2c619d8a5'}, 'creationDate': '2021-01-05'}}, {'description': 'LARIAC4', 'label': 'L4_6281_1836b.las', 'restricted': True, 'version': 1, 'datasetVersionId': 1268, 'dataFile': {'id': 23412, 'persistentId': 'doi:10.25346/S6/T4LHZF/ND7WD8', 'pidURL': 'https://doi.org/10.25346/S6/T4LHZF/ND7WD8', 'filename': 'L4_6281_1836b.las', 'contentType': 'application/octet-stream', 'filesize': 96581790, 'description': 'LARIAC4', 'storageIdentifier': 's3-dataverse-lariac-direct://dataverse-lariac-direct:176d3a49027-e79f3c906f39', 'rootDataFileId': -1, 'md5': '823e95a77095c32821daa8760ceef3a9', 'checksum': {'type': 'MD5', 'value': '823e95a77095c32821daa8760ceef3a9'}, 'creationDate': '2021-01-05'}}, {'description': 'LARIAC4', 'label': 'L4_6281_1836c.las', 'restricted': True, 'version': 1, 'datasetVersionId': 1268, 'dataFile': {'id': 23415, 'persistentId': 'doi:10.25346/S6/T4LHZF/IEIKLG', 'pidURL': 'https://doi.org/10.25346/S6/T4LHZF/IEIKLG', 'filename': 'L4_6281_1836c.las', 'contentType': 'application/octet-stream', 'filesize': 125536781, 'description': 'LARIAC4', 'storageIdentifier': 's3-dataverse-lariac-direct://dataverse-lariac-direct:176d3a4915c-227a17240fd2', 'rootDataFileId': -1, 'md5': '5a09f5fca1dcbc7f44b76ffa732368d0', 'checksum': {'type': 'MD5', 'value': '5a09f5fca1dcbc7f44b76ffa732368d0'}, 'creationDate': '2021-01-05'}}, {'description': 'LARIAC4', 'label': 'L4_6281_1836d.las', 'restricted': True, 'version': 1, 'datasetVersionId': 1268, 'dataFile': {'id': 23416, 'persistentId': 'doi:10.25346/S6/T4LHZF/DFMQXZ', 'pidURL': 'https://doi.org/10.25346/S6/T4LHZF/DFMQXZ', 'filename': 'L4_6281_1836d.las', 'contentType': 'application/octet-stream', 'filesize': 41990460, 'description': 'LARIAC4', 'storageIdentifier': 's3-dataverse-lariac-direct://dataverse-lariac-direct:176d3a495cd-9d42f0879c87', 'rootDataFileId': -1, 'md5': '97ff7d6f6c3cc306a262e0cc3b8e1fe1', 'checksum': {'type': 'MD5', 'value': '97ff7d6f6c3cc306a262e0cc3b8e1fe1'}, 'creationDate': '2021-01-05'}}, {'description': 'LARIAC4', 'label': 'L4_6281_1842a.las', 'restricted': True, 'version': 2, 'datasetVersionId': 1268, 'dataFile': {'id': 23414, 'persistentId': 'doi:10.25346/S6/T4LHZF/9GNHYZ', 'pidURL': 'https://doi.org/10.25346/S6/T4LHZF/9GNHYZ', 'filename': 'L4_6281_1842a.las', 'contentType': 'application/octet-stream', 'filesize': 129139549, 'description': 'LARIAC4', 'storageIdentifier': 's3-dataverse-lariac-direct://dataverse-lariac-direct:176d3a73685-16504f9f382a', 'rootDataFileId': -1, 'md5': '2af90f4c6dd22c98d7dd750037231b77', 'checksum': {'type': 'MD5', 'value': '2af90f4c6dd22c98d7dd750037231b77'}, 'creationDate': '2021-01-05'}}, {'description': 'LARIAC4', 'label': 'L4_6281_1842b.las', 'restricted': True, 'version': 1, 'datasetVersionId': 1268, 'dataFile': {'id': 23411, 'persistentId': 'doi:10.25346/S6/T4LHZF/NJ5DKB', 'pidURL': 'https://doi.org/10.25346/S6/T4LHZF/NJ5DKB', 'filename': 'L4_6281_1842b.las', 'contentType': 'application/octet-stream', 'filesize': 321453540, 'description': 'LARIAC4', 'storageIdentifier': 's3-dataverse-lariac-direct://dataverse-lariac-direct:176d3a8ccee-ae88a1824cc0', 'rootDataFileId': -1, 'md5': 'a9e479ec3440bfe113ebdbd458a973bd', 'checksum': {'type': 'MD5', 'value': 'a9e479ec3440bfe113ebdbd458a973bd'}, 'creationDate': '2021-01-05'}}, {'description': 'LARIAC4', 'label': 'L4_6281_1842c.las', 'restricted': True, 'version': 1, 'datasetVersionId': 1268, 'dataFile': {'id': 23421, 'persistentId': 'doi:10.25346/S6/T4LHZF/NAYUNW', 'pidURL': 'https://doi.org/10.25346/S6/T4LHZF/NAYUNW', 'filename': 'L4_6281_1842c.las', 'contentType': 'application/octet-stream', 'filesize': 306026496, 'description': 'LARIAC4', 'storageIdentifier': 's3-dataverse-lariac-direct://dataverse-lariac-direct:176d3b9fc75-390a499a8bb3', 'rootDataFileId': -1, 'md5': 'b13b3d54a9c7238474cc10cd25ee3e73', 'checksum': {'type': 'MD5', 'value': 'b13b3d54a9c7238474cc10cd25ee3e73'}, 'creationDate': '2021-01-05'}}, {'description': 'LARIAC4', 'label': 'L4_6281_1842d.las', 'restricted': True, 'version': 1, 'datasetVersionId': 1268, 'dataFile': {'id': 23420, 'persistentId': 'doi:10.25346/S6/T4LHZF/3WW637', 'pidURL': 'https://doi.org/10.25346/S6/T4LHZF/3WW637', 'filename': 'L4_6281_1842d.las', 'contentType': 'application/octet-stream', 'filesize': 141106939, 'description': 'LARIAC4', 'storageIdentifier': 's3-dataverse-lariac-direct://dataverse-lariac-direct:176d3b9fdc1-5c30ab5e8b7b', 'rootDataFileId': -1, 'md5': 'a15934289fe8944848377d14a0d5162d', 'checksum': {'type': 'MD5', 'value': 'a15934289fe8944848377d14a0d5162d'}, 'creationDate': '2021-01-05'}}, {'description': 'LARIAC4', 'label': 'L4_6281_1847a.las', 'restricted': True, 'version': 1, 'datasetVersionId': 1268, 'dataFile': {'id': 23422, 'persistentId': 'doi:10.25346/S6/T4LHZF/9DB1YE', 'pidURL': 'https://doi.org/10.25346/S6/T4LHZF/9DB1YE', 'filename': 'L4_6281_1847a.las', 'contentType': 'application/octet-stream', 'filesize': 410072839, 'description': 'LARIAC4', 'storageIdentifier': 's3-dataverse-lariac-direct://dataverse-lariac-direct:176d3b9ff36-34a4fa5f0b5f', 'rootDataFileId': -1, 'md5': 'd735ed81c59490ff61eb14280241813f', 'checksum': {'type': 'MD5', 'value': 'd735ed81c59490ff61eb14280241813f'}, 'creationDate': '2021-01-05'}}, {'description': 'LARIAC4', 'label': 'L4_6281_1847b.las', 'restricted': True, 'version': 1, 'datasetVersionId': 1268, 'dataFile': {'id': 23419, 'persistentId': 'doi:10.25346/S6/T4LHZF/SHT7KZ', 'pidURL': 'https://doi.org/10.25346/S6/T4LHZF/SHT7KZ', 'filename': 'L4_6281_1847b.las', 'contentType': 'application/octet-stream', 'filesize': 294140716, 'description': 'LARIAC4', 'storageIdentifier': 's3-dataverse-lariac-direct://dataverse-lariac-direct:176d3ba0089-c46e0a85b7f2', 'rootDataFileId': -1, 'md5': 'ce6aba3f5973720677d2f01cd3edc8a8', 'checksum': {'type': 'MD5', 'value': 'ce6aba3f5973720677d2f01cd3edc8a8'}, 'creationDate': '2021-01-05'}}, {'description': 'LARIAC4', 'label': 'L4_6281_1847c.las', 'restricted': True, 'version': 1, 'datasetVersionId': 1268, 'dataFile': {'id': 23417, 'persistentId': 'doi:10.25346/S6/T4LHZF/ZGQVTV', 'pidURL': 'https://doi.org/10.25346/S6/T4LHZF/ZGQVTV', 'filename': 'L4_6281_1847c.las', 'contentType': 'application/octet-stream', 'filesize': 253199340, 'description': 'LARIAC4', 'storageIdentifier': 's3-dataverse-lariac-direct://dataverse-lariac-direct:176d3d26bd9-347b5d0628ac', 'rootDataFileId': -1, 'md5': 'c3fc3145679e812eca492138dc74355e', 'checksum': {'type': 'MD5', 'value': 'c3fc3145679e812eca492138dc74355e'}, 'creationDate': '2021-01-05'}}, {'description': 'LARIAC4', 'label': 'L4_6281_1847d.las', 'restricted': True, 'version': 1, 'datasetVersionId': 1268, 'dataFile': {'id': 23418, 'persistentId': 'doi:10.25346/S6/T4LHZF/PGPAZM', 'pidURL': 'https://doi.org/10.25346/S6/T4LHZF/PGPAZM', 'filename': 'L4_6281_1847d.las', 'contentType': 'application/octet-stream', 'filesize': 325068600, 'description': 'LARIAC4', 'storageIdentifier': 's3-dataverse-lariac-direct://dataverse-lariac-direct:176d3dc10da-d8dae12401ce', 'rootDataFileId': -1, 'md5': 'c62926ad3f8658bf432e177a42d8d337', 'checksum': {'type': 'MD5', 'value': 'c62926ad3f8658bf432e177a42d8d337'}, 'creationDate': '2021-01-05'}}, {'description': 'LARIAC4', 'label': 'L4_6281_1852a.las', 'restricted': True, 'version': 1, 'datasetVersionId': 1268, 'dataFile': {'id': 23423, 'persistentId': 'doi:10.25346/S6/T4LHZF/AD2AQ2', 'pidURL': 'https://doi.org/10.25346/S6/T4LHZF/AD2AQ2', 'filename': 'L4_6281_1852a.las', 'contentType': 'application/octet-stream', 'filesize': 289000421, 'description': 'LARIAC4', 'storageIdentifier': 's3-dataverse-lariac-direct://dataverse-lariac-direct:176d40e6c48-f46216b48633', 'rootDataFileId': -1, 'md5': '648ff7c6d0bcb8151250b1024009e3ca', 'checksum': {'type': 'MD5', 'value': '648ff7c6d0bcb8151250b1024009e3ca'}, 'creationDate': '2021-01-05'}}, {'description': 'LARIAC4', 'label': 'L4_6281_1852b.las', 'restricted': True, 'version': 1, 'datasetVersionId': 1268, 'dataFile': {'id': 23424, 'persistentId': 'doi:10.25346/S6/T4LHZF/UNDBRU', 'pidURL': 'https://doi.org/10.25346/S6/T4LHZF/UNDBRU', 'filename': 'L4_6281_1852b.las', 'contentType': 'application/octet-stream', 'filesize': 218069880, 'description': 'LARIAC4', 'storageIdentifier': 's3-dataverse-lariac-direct://dataverse-lariac-direct:176d40e6d63-5f2a34a816df', 'rootDataFileId': -1, 'md5': '4567e92f6460abdcf12564bbebc9b207', 'checksum': {'type': 'MD5', 'value': '4567e92f6460abdcf12564bbebc9b207'}, 'creationDate': '2021-01-05'}}, {'description': 'LARIAC4', 'label': 'L4_6281_1852c.las', 'restricted': True, 'version': 1, 'datasetVersionId': 1268, 'dataFile': {'id': 23427, 'persistentId': 'doi:10.25346/S6/T4LHZF/VT6UMR', 'pidURL': 'https://doi.org/10.25346/S6/T4LHZF/VT6UMR', 'filename': 'L4_6281_1852c.las', 'contentType': 'application/octet-stream', 'filesize': 221690749, 'description': 'LARIAC4', 'storageIdentifier': 's3-dataverse-lariac-direct://dataverse-lariac-direct:176d40e6ea4-865cce959dc2', 'rootDataFileId': -1, 'md5': '8c310350d2e3f48b1ff18ae3a79aab79', 'checksum': {'type': 'MD5', 'value': '8c310350d2e3f48b1ff18ae3a79aab79'}, 'creationDate': '2021-01-05'}}, {'description': 'LARIAC4', 'label': 'L4_6281_1852d.las', 'restricted': True, 'version': 1, 'datasetVersionId': 1268, 'dataFile': {'id': 23426, 'persistentId': 'doi:10.25346/S6/T4LHZF/UMGOL1', 'pidURL': 'https://doi.org/10.25346/S6/T4LHZF/UMGOL1', 'filename': 'L4_6281_1852d.las', 'contentType': 'application/octet-stream', 'filesize': 270721426, 'description': 'LARIAC4', 'storageIdentifier': 's3-dataverse-lariac-direct://dataverse-lariac-direct:176d40e7060-1ec365591ace', 'rootDataFileId': -1, 'md5': '82efb3e85d16bb43b4a5d38b34ae2851', 'checksum': {'type': 'MD5', 'value': '82efb3e85d16bb43b4a5d38b34ae2851'}, 'creationDate': '2021-01-05'}}, {'description': 'LARIAC4', 'label': 'L4_6281_1857d.las', 'restricted': True, 'version': 1, 'datasetVersionId': 1268, 'dataFile': {'id': 23425, 'persistentId': 'doi:10.25346/S6/T4LHZF/SY4P96', 'pidURL': 'https://doi.org/10.25346/S6/T4LHZF/SY4P96', 'filename': 'L4_6281_1857d.las', 'contentType': 'application/octet-stream', 'filesize': 158112191, 'description': 'LARIAC4', 'storageIdentifier': 's3-dataverse-lariac-direct://dataverse-lariac-direct:176d4235296-8f9de126cef1', 'rootDataFileId': -1, 'md5': '62936b6ba3e4208001ece81b2324afb1', 'checksum': {'type': 'MD5', 'value': '62936b6ba3e4208001ece81b2324afb1'}, 'creationDate': '2021-01-05'}}, {'description': 'LARIAC4', 'label': 'L4_6286_1836a.las', 'restricted': True, 'version': 1, 'datasetVersionId': 1268, 'dataFile': {'id': 23430, 'persistentId': 'doi:10.25346/S6/T4LHZF/RAXRMJ', 'pidURL': 'https://doi.org/10.25346/S6/T4LHZF/RAXRMJ', 'filename': 'L4_6286_1836a.las', 'contentType': 'application/octet-stream', 'filesize': 37049531, 'description': 'LARIAC4', 'storageIdentifier': 's3-dataverse-lariac-direct://dataverse-lariac-direct:176d4448fbc-aadfdb492b01', 'rootDataFileId': -1, 'md5': 'fb64c17b23a38a69132ba3ac148d33ed', 'checksum': {'type': 'MD5', 'value': 'fb64c17b23a38a69132ba3ac148d33ed'}, 'creationDate': '2021-01-05'}}, {'description': 'LARIAC4', 'label': 'L4_6286_1836b.las', 'restricted': True, 'version': 1, 'datasetVersionId': 1268, 'dataFile': {'id': 23428, 'persistentId': 'doi:10.25346/S6/T4LHZF/RRCPZ4', 'pidURL': 'https://doi.org/10.25346/S6/T4LHZF/RRCPZ4', 'filename': 'L4_6286_1836b.las', 'contentType': 'application/octet-stream', 'filesize': 108978649, 'description': 'LARIAC4', 'storageIdentifier': 's3-dataverse-lariac-direct://dataverse-lariac-direct:176d44490f0-b2f081077fdb', 'rootDataFileId': -1, 'md5': 'e771885abf8a3b4474eae3104eb139d9', 'checksum': {'type': 'MD5', 'value': 'e771885abf8a3b4474eae3104eb139d9'}, 'creationDate': '2021-01-05'}}, {'description': 'LARIAC4', 'label': 'L4_6286_1836c.las', 'restricted': True, 'version': 1, 'datasetVersionId': 1268, 'dataFile': {'id': 23429, 'persistentId': 'doi:10.25346/S6/T4LHZF/GWJIOL', 'pidURL': 'https://doi.org/10.25346/S6/T4LHZF/GWJIOL', 'filename': 'L4_6286_1836c.las', 'contentType': 'application/octet-stream', 'filesize': 116540239, 'description': 'LARIAC4', 'storageIdentifier': 's3-dataverse-lariac-direct://dataverse-lariac-direct:176d444923d-12da48ca4e2e', 'rootDataFileId': -1, 'md5': '9fae3d27325cf77dba5fe4743fa880cf', 'checksum': {'type': 'MD5', 'value': '9fae3d27325cf77dba5fe4743fa880cf'}, 'creationDate': '2021-01-05'}}, {'description': 'LARIAC4', 'label': 'L4_6286_1836d.las', 'restricted': True, 'version': 1, 'datasetVersionId': 1268, 'dataFile': {'id': 23431, 'persistentId': 'doi:10.25346/S6/T4LHZF/VAVPNF', 'pidURL': 'https://doi.org/10.25346/S6/T4LHZF/VAVPNF', 'filename': 'L4_6286_1836d.las', 'contentType': 'application/octet-stream', 'filesize': 57577999, 'description': 'LARIAC4', 'storageIdentifier': 's3-dataverse-lariac-direct://dataverse-lariac-direct:176d44493cf-2860dcd35a30', 'rootDataFileId': -1, 'md5': 'bb54cb84f77d9fed008206a72aad63d6', 'checksum': {'type': 'MD5', 'value': 'bb54cb84f77d9fed008206a72aad63d6'}, 'creationDate': '2021-01-05'}}, {'description': 'LARIAC4', 'label': 'L4_6286_1842a.las', 'restricted': True, 'version': 1, 'datasetVersionId': 1268, 'dataFile': {'id': 23432, 'persistentId': 'doi:10.25346/S6/T4LHZF/QQ759X', 'pidURL': 'https://doi.org/10.25346/S6/T4LHZF/QQ759X', 'filename': 'L4_6286_1842a.las', 'contentType': 'application/octet-stream', 'filesize': 129494220, 'description': 'LARIAC4', 'storageIdentifier': 's3-dataverse-lariac-direct://dataverse-lariac-direct:176d47fe9c4-f84916077662', 'rootDataFileId': -1, 'md5': 'afb776bf5b907924eb97ab716fe18fc7', 'checksum': {'type': 'MD5', 'value': 'afb776bf5b907924eb97ab716fe18fc7'}, 'creationDate': '2021-01-05'}}, {'description': 'LARIAC4', 'label': 'L4_6286_1842b.las', 'restricted': True, 'version': 1, 'datasetVersionId': 1268, 'dataFile': {'id': 23433, 'persistentId': 'doi:10.25346/S6/T4LHZF/AQAOSQ', 'pidURL': 'https://doi.org/10.25346/S6/T4LHZF/AQAOSQ', 'filename': 'L4_6286_1842b.las', 'contentType': 'application/octet-stream', 'filesize': 259475389, 'description': 'LARIAC4', 'storageIdentifier': 's3-dataverse-lariac-direct://dataverse-lariac-direct:176d47feaf8-cc3f81f76989', 'rootDataFileId': -1, 'md5': 'f1fafde940370adbf5518385364392a5', 'checksum': {'type': 'MD5', 'value': 'f1fafde940370adbf5518385364392a5'}, 'creationDate': '2021-01-05'}}, {'description': 'LARIAC4', 'label': 'L4_6286_1842c.las', 'restricted': True, 'version': 1, 'datasetVersionId': 1268, 'dataFile': {'id': 23434, 'persistentId': 'doi:10.25346/S6/T4LHZF/QP1M8P', 'pidURL': 'https://doi.org/10.25346/S6/T4LHZF/QP1M8P', 'filename': 'L4_6286_1842c.las', 'contentType': 'application/octet-stream', 'filesize': 287100810, 'description': 'LARIAC4', 'storageIdentifier': 's3-dataverse-lariac-direct://dataverse-lariac-direct:176d47fec3b-0c7886f64d5b', 'rootDataFileId': -1, 'md5': '37b49259a9c8316458b067f4a2f187e4', 'checksum': {'type': 'MD5', 'value': '37b49259a9c8316458b067f4a2f187e4'}, 'creationDate': '2021-01-05'}}, {'description': 'LARIAC4', 'label': 'L4_6286_1842d.las', 'restricted': True, 'version': 1, 'datasetVersionId': 1268, 'dataFile': {'id': 23435, 'persistentId': 'doi:10.25346/S6/T4LHZF/ZILEA1', 'pidURL': 'https://doi.org/10.25346/S6/T4LHZF/ZILEA1', 'filename': 'L4_6286_1842d.las', 'contentType': 'application/octet-stream', 'filesize': 137801686, 'description': 'LARIAC4', 'storageIdentifier': 's3-dataverse-lariac-direct://dataverse-lariac-direct:176d47fee34-19675de75a2c', 'rootDataFileId': -1, 'md5': 'c335bc44acd3b7ba1a060fbb4d8cabc8', 'checksum': {'type': 'MD5', 'value': 'c335bc44acd3b7ba1a060fbb4d8cabc8'}, 'creationDate': '2021-01-05'}}, {'description': 'LARIAC4', 'label': 'L4_6286_1847a.las', 'restricted': True, 'version': 1, 'datasetVersionId': 1268, 'dataFile': {'id': 23437, 'persistentId': 'doi:10.25346/S6/T4LHZF/OPVFR6', 'pidURL': 'https://doi.org/10.25346/S6/T4LHZF/OPVFR6', 'filename': 'L4_6286_1847a.las', 'contentType': 'application/octet-stream', 'filesize': 272205106, 'description': 'LARIAC4', 'storageIdentifier': 's3-dataverse-lariac-direct://dataverse-lariac-direct:176d499e513-bd535f66c5a0', 'rootDataFileId': -1, 'md5': '42d262c6d76c299c2251b7e359e47c4e', 'checksum': {'type': 'MD5', 'value': '42d262c6d76c299c2251b7e359e47c4e'}, 'creationDate': '2021-01-05'}}, {'description': 'LARIAC4', 'label': 'L4_6286_1847b.las', 'restricted': True, 'version': 1, 'datasetVersionId': 1268, 'dataFile': {'id': 23439, 'persistentId': 'doi:10.25346/S6/T4LHZF/CC4KXD', 'pidURL': 'https://doi.org/10.25346/S6/T4LHZF/CC4KXD', 'filename': 'L4_6286_1847b.las', 'contentType': 'application/octet-stream', 'filesize': 243885529, 'description': 'LARIAC4', 'storageIdentifier': 's3-dataverse-lariac-direct://dataverse-lariac-direct:176d499e652-b716dd36025e', 'rootDataFileId': -1, 'md5': '1c544db21776e43aad41ab22cc40569e', 'checksum': {'type': 'MD5', 'value': '1c544db21776e43aad41ab22cc40569e'}, 'creationDate': '2021-01-05'}}, {'description': 'LARIAC4', 'label': 'L4_6286_1847c.las', 'restricted': True, 'version': 1, 'datasetVersionId': 1268, 'dataFile': {'id': 23436, 'persistentId': 'doi:10.25346/S6/T4LHZF/8NJ8FV', 'pidURL': 'https://doi.org/10.25346/S6/T4LHZF/8NJ8FV', 'filename': 'L4_6286_1847c.las', 'contentType': 'application/octet-stream', 'filesize': 260835406, 'description': 'LARIAC4', 'storageIdentifier': 's3-dataverse-lariac-direct://dataverse-lariac-direct:176d499e7a7-c3902c9e6cb7', 'rootDataFileId': -1, 'md5': 'f47598a49dd22cbc170b1fcb791e7bb1', 'checksum': {'type': 'MD5', 'value': 'f47598a49dd22cbc170b1fcb791e7bb1'}, 'creationDate': '2021-01-05'}}, {'description': 'LARIAC4', 'label': 'L4_6286_1847d.las', 'restricted': True, 'version': 1, 'datasetVersionId': 1268, 'dataFile': {'id': 23438, 'persistentId': 'doi:10.25346/S6/T4LHZF/SIGRA5', 'pidURL': 'https://doi.org/10.25346/S6/T4LHZF/SIGRA5', 'filename': 'L4_6286_1847d.las', 'contentType': 'application/octet-stream', 'filesize': 273407719, 'description': 'LARIAC4', 'storageIdentifier': 's3-dataverse-lariac-direct://dataverse-lariac-direct:176d499e968-1b0a8304911c', 'rootDataFileId': -1, 'md5': '9df4428298a427449fc0307fe3346f96', 'checksum': {'type': 'MD5', 'value': '9df4428298a427449fc0307fe3346f96'}, 'creationDate': '2021-01-05'}}, {'description': 'LARIAC4', 'label': 'L4_6286_1852a.las', 'restricted': True, 'version': 1, 'datasetVersionId': 1268, 'dataFile': {'id': 23442, 'persistentId': 'doi:10.25346/S6/T4LHZF/DNQCYI', 'pidURL': 'https://doi.org/10.25346/S6/T4LHZF/DNQCYI', 'filename': 'L4_6286_1852a.las', 'contentType': 'application/octet-stream', 'filesize': 251049060, 'description': 'LARIAC4', 'storageIdentifier': 's3-dataverse-lariac-direct://dataverse-lariac-direct:176d4f1a058-17df9cd4b9af', 'rootDataFileId': -1, 'md5': '2c090736bb0ae1fdbaf0f9cc82872f5b', 'checksum': {'type': 'MD5', 'value': '2c090736bb0ae1fdbaf0f9cc82872f5b'}, 'creationDate': '2021-01-06'}}, {'description': 'LARIAC4', 'label': 'L4_6286_1852b.las', 'restricted': True, 'version': 1, 'datasetVersionId': 1268, 'dataFile': {'id': 23440, 'persistentId': 'doi:10.25346/S6/T4LHZF/6NAVTC', 'pidURL': 'https://doi.org/10.25346/S6/T4LHZF/6NAVTC', 'filename': 'L4_6286_1852b.las', 'contentType': 'application/octet-stream', 'filesize': 206769949, 'description': 'LARIAC4', 'storageIdentifier': 's3-dataverse-lariac-direct://dataverse-lariac-direct:176d4f1a1a2-3ecde6c77d04', 'rootDataFileId': -1, 'md5': 'e1f1b95e53f6dec7383782e987ff049a', 'checksum': {'type': 'MD5', 'value': 'e1f1b95e53f6dec7383782e987ff049a'}, 'creationDate': '2021-01-06'}}, {'description': 'LARIAC4', 'label': 'L4_6286_1852c.las', 'restricted': True, 'version': 1, 'datasetVersionId': 1268, 'dataFile': {'id': 23443, 'persistentId': 'doi:10.25346/S6/T4LHZF/YIYKLP', 'pidURL': 'https://doi.org/10.25346/S6/T4LHZF/YIYKLP', 'filename': 'L4_6286_1852c.las', 'contentType': 'application/octet-stream', 'filesize': 183149640, 'description': 'LARIAC4', 'storageIdentifier': 's3-dataverse-lariac-direct://dataverse-lariac-direct:176d4f1a2eb-cec5a7d6703c', 'rootDataFileId': -1, 'md5': 'de8f3fc61a60a70cc6528c4a31d6e4dc', 'checksum': {'type': 'MD5', 'value': 'de8f3fc61a60a70cc6528c4a31d6e4dc'}, 'creationDate': '2021-01-06'}}, {'description': 'LARIAC4', 'label': 'L4_6286_1852d.las', 'restricted': True, 'version': 1, 'datasetVersionId': 1268, 'dataFile': {'id': 23441, 'persistentId': 'doi:10.25346/S6/T4LHZF/JFEXLF', 'pidURL': 'https://doi.org/10.25346/S6/T4LHZF/JFEXLF', 'filename': 'L4_6286_1852d.las', 'contentType': 'application/octet-stream', 'filesize': 236055109, 'description': 'LARIAC4', 'storageIdentifier': 's3-dataverse-lariac-direct://dataverse-lariac-direct:176d4f1a4d8-d17e39aa62cd', 'rootDataFileId': -1, 'md5': '297fc8a4f5c550ff1f87e51dc1e632ee', 'checksum': {'type': 'MD5', 'value': '297fc8a4f5c550ff1f87e51dc1e632ee'}, 'creationDate': '2021-01-06'}}, {'description': 'LARIAC4', 'label': 'L4_6286_1857a.las', 'restricted': True, 'version': 1, 'datasetVersionId': 1268, 'dataFile': {'id': 23446, 'persistentId': 'doi:10.25346/S6/T4LHZF/ZYGMHN', 'pidURL': 'https://doi.org/10.25346/S6/T4LHZF/ZYGMHN', 'filename': 'L4_6286_1857a.las', 'contentType': 'application/octet-stream', 'filesize': 149895671, 'description': 'LARIAC4', 'storageIdentifier': 's3-dataverse-lariac-direct://dataverse-lariac-direct:176d5087bec-304a8c67414f', 'rootDataFileId': -1, 'md5': '42ae6bbbab053d301155d8d9f808f131', 'checksum': {'type': 'MD5', 'value': '42ae6bbbab053d301155d8d9f808f131'}, 'creationDate': '2021-01-06'}}, {'description': 'LARIAC4', 'label': 'L4_6286_1857b.las', 'restricted': True, 'version': 1, 'datasetVersionId': 1268, 'dataFile': {'id': 23444, 'persistentId': 'doi:10.25346/S6/T4LHZF/DY8JPQ', 'pidURL': 'https://doi.org/10.25346/S6/T4LHZF/DY8JPQ', 'filename': 'L4_6286_1857b.las', 'contentType': 'application/octet-stream', 'filesize': 228147786, 'description': 'LARIAC4', 'storageIdentifier': 's3-dataverse-lariac-direct://dataverse-lariac-direct:176d5087d2b-edc82d13d35a', 'rootDataFileId': -1, 'md5': '286a31674998e5b66178e4bc3c6b76c8', 'checksum': {'type': 'MD5', 'value': '286a31674998e5b66178e4bc3c6b76c8'}, 'creationDate': '2021-01-06'}}, {'description': 'LARIAC4', 'label': 'L4_6286_1857c.las', 'restricted': True, 'version': 1, 'datasetVersionId': 1268, 'dataFile': {'id': 23447, 'persistentId': 'doi:10.25346/S6/T4LHZF/XARZJ5', 'pidURL': 'https://doi.org/10.25346/S6/T4LHZF/XARZJ5', 'filename': 'L4_6286_1857c.las', 'contentType': 'application/octet-stream', 'filesize': 252412969, 'description': 'LARIAC4', 'storageIdentifier': 's3-dataverse-lariac-direct://dataverse-lariac-direct:176d5087e85-d370fbe7955e', 'rootDataFileId': -1, 'md5': '8625ec91b4e066edd6f3330532a75820', 'checksum': {'type': 'MD5', 'value': '8625ec91b4e066edd6f3330532a75820'}, 'creationDate': '2021-01-06'}}, {'description': 'LARIAC4', 'label': 'L4_6286_1857d.las', 'restricted': True, 'version': 1, 'datasetVersionId': 1268, 'dataFile': {'id': 23445, 'persistentId': 'doi:10.25346/S6/T4LHZF/M3CNFK', 'pidURL': 'https://doi.org/10.25346/S6/T4LHZF/M3CNFK', 'filename': 'L4_6286_1857d.las', 'contentType': 'application/octet-stream', 'filesize': 167623650, 'description': 'LARIAC4', 'storageIdentifier': 's3-dataverse-lariac-direct://dataverse-lariac-direct:176d508802d-3d2e1105c46d', 'rootDataFileId': -1, 'md5': '77f9bb8410713ecb2625ba898197e794', 'checksum': {'type': 'MD5', 'value': '77f9bb8410713ecb2625ba898197e794'}, 'creationDate': '2021-01-06'}}, {'description': 'LARIAC4', 'label': 'L4_6292_1831c.las', 'restricted': True, 'version': 1, 'datasetVersionId': 1268, 'dataFile': {'id': 23448, 'persistentId': 'doi:10.25346/S6/T4LHZF/IJYKZ5', 'pidURL': 'https://doi.org/10.25346/S6/T4LHZF/IJYKZ5', 'filename': 'L4_6292_1831c.las', 'contentType': 'application/octet-stream', 'filesize': 30763320, 'description': 'LARIAC4', 'storageIdentifier': 's3-dataverse-lariac-direct://dataverse-lariac-direct:176deff1132-ae6b4378c181', 'rootDataFileId': -1, 'md5': 'c4bcf8c6c736719df26544b557e7337d', 'checksum': {'type': 'MD5', 'value': 'c4bcf8c6c736719df26544b557e7337d'}, 'creationDate': '2021-01-07'}}, {'description': 'LARIAC4', 'label': 'L4_6292_1836a.las', 'restricted': True, 'version': 1, 'datasetVersionId': 1268, 'dataFile': {'id': 23449, 'persistentId': 'doi:10.25346/S6/T4LHZF/YGMUDB', 'pidURL': 'https://doi.org/10.25346/S6/T4LHZF/YGMUDB', 'filename': 'L4_6292_1836a.las', 'contentType': 'application/octet-stream', 'filesize': 67320256, 'description': 'LARIAC4', 'storageIdentifier': 's3-dataverse-lariac-direct://dataverse-lariac-direct:176deff1265-e74a4f765cd3', 'rootDataFileId': -1, 'md5': '6ec19bc3ab95d45c579d3571fdff66d4', 'checksum': {'type': 'MD5', 'value': '6ec19bc3ab95d45c579d3571fdff66d4'}, 'creationDate': '2021-01-07'}}, {'description': 'LARIAC4', 'label': 'L4_6292_1836b.las', 'restricted': True, 'version': 1, 'datasetVersionId': 1268, 'dataFile': {'id': 23452, 'persistentId': 'doi:10.25346/S6/T4LHZF/EMTPJX', 'pidURL': 'https://doi.org/10.25346/S6/T4LHZF/EMTPJX', 'filename': 'L4_6292_1836b.las', 'contentType': 'application/octet-stream', 'filesize': 100498909, 'description': 'LARIAC4', 'storageIdentifier': 's3-dataverse-lariac-direct://dataverse-lariac-direct:176deff13c8-ff666795a4f1', 'rootDataFileId': -1, 'md5': '6f9aebbc3274755c0dd4e4520c2ee6c8', 'checksum': {'type': 'MD5', 'value': '6f9aebbc3274755c0dd4e4520c2ee6c8'}, 'creationDate': '2021-01-07'}}, {'description': 'LARIAC4', 'label': 'L4_6292_1836c.las', 'restricted': True, 'version': 1, 'datasetVersionId': 1268, 'dataFile': {'id': 23451, 'persistentId': 'doi:10.25346/S6/T4LHZF/5F9NV6', 'pidURL': 'https://doi.org/10.25346/S6/T4LHZF/5F9NV6', 'filename': 'L4_6292_1836c.las', 'contentType': 'application/octet-stream', 'filesize': 110559586, 'description': 'LARIAC4', 'storageIdentifier': 's3-dataverse-lariac-direct://dataverse-lariac-direct:176deff1543-eb4e05604a67', 'rootDataFileId': -1, 'md5': '4bff0ab0a41df007e3527f1ca85fb24b', 'checksum': {'type': 'MD5', 'value': '4bff0ab0a41df007e3527f1ca85fb24b'}, 'creationDate': '2021-01-07'}}, {'description': 'LARIAC4', 'label': 'L4_6292_1836d.las', 'restricted': True, 'version': 1, 'datasetVersionId': 1268, 'dataFile': {'id': 23450, 'persistentId': 'doi:10.25346/S6/T4LHZF/0PMIR3', 'pidURL': 'https://doi.org/10.25346/S6/T4LHZF/0PMIR3', 'filename': 'L4_6292_1836d.las', 'contentType': 'application/octet-stream', 'filesize': 76920780, 'description': 'LARIAC4', 'storageIdentifier': 's3-dataverse-lariac-direct://dataverse-lariac-direct:176df02306f-642c44beb654', 'rootDataFileId': -1, 'md5': 'f6c39d1c24141d9faa11305211d53599', 'checksum': {'type': 'MD5', 'value': 'f6c39d1c24141d9faa11305211d53599'}, 'creationDate': '2021-01-07'}}, {'description': 'LARIAC4', 'label': 'stignore', 'restricted': True, 'version': 1, 'datasetVersionId': 1268, 'dataFile': {'id': 22176, 'persistentId': 'doi:10.25346/S6/T4LHZF/Q5K2FW', 'pidURL': 'https://doi.org/10.25346/S6/T4LHZF/Q5K2FW', 'filename': 'stignore', 'contentType': 'application/octet-stream', 'filesize': 0, 'description': 'LARIAC4', 'storageIdentifier': 's3-dataverse-lariac-direct://dataverse-lariac-direct:17663f9fcc7-f6e49cbf7ae8', 'rootDataFileId': -1, 'md5': 'd41d8cd98f00b204e9800998ecf8427e', 'checksum': {'type': 'MD5', 'value': 'd41d8cd98f00b204e9800998ecf8427e'}, 'creationDate': '2020-12-15'}}]\n",
      "9\n",
      "<class 'dict'>\n",
      "dict_keys(['id', 'identifier', 'persistentUrl', 'protocol', 'authority', 'publisher', 'publicationDate', 'storageIdentifier', 'latestVersion'])\n"
     ]
    }
   ],
   "source": [
    "# get list of all datafiles in dataset\n",
    "# The dataset id can be extracted from the response retrieved from the API \n",
    "#      which uses the persistent identifier (/api/datasets/:persistentId/?persistentId=$PERSISTENT_IDENTIFIER).\n",
    "# curl https://dataverse.ucla.edu/api/datasets/21062/versions/3.0/files | jq\n",
    "# check what version you are up to\n",
    "# curl https://dataverse.ucla.edu/api/datasets/21062/versions | jq . > filename.json\n",
    "# curl https://dataverse.ucla.edu/api/datasets/21062/versions | jq\n",
    "# identifier = 'doi:10.25346/S6/T4LHZF'\n",
    "# version = '11.0'\n",
    "#resp = api.get_datafiles(identifier, version)\n",
    "#print(version)\n",
    "resp = api.get_dataset(identifier)\n",
    "datasetID = resp.json()['data']['id']\n",
    "fileOut = resp.json()['data']\n",
    "dataset_name = resp.json()['data']['latestVersion']['files'][9]\n",
    "print(dataset_name)\n",
    "print(fileOut['latestVersion']['files'])\n",
    "print(len(fileOut))\n",
    "print(type(fileOut))\n",
    "#print(fileOut)\n",
    "print(fileOut.keys()) "
   ]
  },
  {
   "cell_type": "code",
   "execution_count": 48,
   "metadata": {
    "scrolled": true
   },
   "outputs": [],
   "source": [
    "#print(fileOut)"
   ]
  },
  {
   "cell_type": "code",
   "execution_count": 49,
   "metadata": {},
   "outputs": [],
   "source": [
    "import json\n",
    "# output json file\n",
    "with open('fileout2dv.json', 'w') as outfile:\n",
    "    json.dump(fileOut, outfile)"
   ]
  },
  {
   "cell_type": "code",
   "execution_count": 50,
   "metadata": {},
   "outputs": [],
   "source": [
    "import pandas as pd\n",
    "# output csv file - read from the previous json file\n",
    "df = pd.read_json(r'fileout2.json')\n",
    "df.to_csv (r'fileout2.csv')"
   ]
  },
  {
   "cell_type": "code",
   "execution_count": 51,
   "metadata": {},
   "outputs": [],
   "source": [
    "# test downloading file 'bundle'\n",
    "# /api/access/datafiles/$id1,$id2,...$idN\n",
    "# pyDataverse:   get_datafile_bundle(identifier)\n",
    "# identifier is Metadata Id\n",
    "#fileList = 'doi:10.25346/S6/T4LHZF/C9IZ9T, doi:10.25346/S6/T4LHZF/X2XS2C, doi.org/10.25346/S6/T4LHZF/I2NO6V'\n",
    "# get_datafile(identifier, is_pid=True)\n",
    "#file_doi = 'doi:10.25346/S6/T4LHZF/HF0XYG'\n",
    "#file_id = '22175'\n",
    "#resp = api.get_datafile(file_id)\n",
    "#resp.json()"
   ]
  },
  {
   "cell_type": "code",
   "execution_count": 55,
   "metadata": {
    "scrolled": false
   },
   "outputs": [
    {
     "name": "stdout",
     "output_type": "stream",
     "text": [
      "Number of files:  7\n",
      "file id: 21062\n",
      "doi: https://doi.org/10.25346/S6/T4LHZF\n",
      "file label:  L4_6273_1836d.las\n",
      "22178\n",
      "L4_6273_1836d.las ,  22178 ,  doi:10.25346/S6/T4LHZF/HUVC5T ,  https://doi.org/10.25346/S6/T4LHZF/HUVC5T\n"
     ]
    }
   ],
   "source": [
    "# use pprint.pprint to get the structure of the metadata output, then pull out what's necessary for a csv file\n",
    "#import pprint\n",
    "dir(pprint)\n",
    "print(\"Number of files: \", len('fileOut'))\n",
    "print('file id:', fileOut['id'])\n",
    "print('doi:',fileOut['persistentUrl'])\n",
    "file_label = resp.json()['data']['latestVersion']['files'][1]['label']\n",
    "print(\"file label: \", file_label)\n",
    "file_id = resp.json()['data']['latestVersion']['files'][1]['dataFile']['id']\n",
    "print(file_id)\n",
    "file_URL = resp.json()['data']['latestVersion']['files'][1]['dataFile'][\"pidURL\"]\n",
    "file_doi = resp.json()['data']['latestVersion']['files'][1]['dataFile'][\"persistentId\"]\n",
    "print(file_label,\", \",file_id, \", \", file_doi, \", \", file_URL)\n",
    "#print(\"Individual file structure:\")\n",
    "#pprint.pprint(fileOut)"
   ]
  },
  {
   "cell_type": "code",
   "execution_count": 56,
   "metadata": {},
   "outputs": [
    {
     "name": "stdout",
     "output_type": "stream",
     "text": [
      "59  files\n",
      "Today's date: 2021-03-30\n",
      "lariac4_filelist-20210330-152845.csv\n",
      "0, L4_6273_1836c.las, 22177, doi:10.25346/S6/T4LHZF/JTFKYM, https://doi.org/10.25346/S6/T4LHZF/JTFKYM\n",
      "1, L4_6273_1836d.las, 22178, doi:10.25346/S6/T4LHZF/HUVC5T, https://doi.org/10.25346/S6/T4LHZF/HUVC5T\n",
      "2, L4_6276_1836a.las, 23408, doi:10.25346/S6/T4LHZF/AYVINK, https://doi.org/10.25346/S6/T4LHZF/AYVINK\n",
      "3, L4_6276_1836b.las, 23407, doi:10.25346/S6/T4LHZF/PZXZMJ, https://doi.org/10.25346/S6/T4LHZF/PZXZMJ\n",
      "4, L4_6276_1836c.las, 23405, doi:10.25346/S6/T4LHZF/YXQN5B, https://doi.org/10.25346/S6/T4LHZF/YXQN5B\n",
      "5, L4_6276_1836d.las, 23406, doi:10.25346/S6/T4LHZF/D6MBA1, https://doi.org/10.25346/S6/T4LHZF/D6MBA1\n",
      "6, L4_6276_1842a.las, 22169, doi:10.25346/S6/T4LHZF/3J75IE, https://doi.org/10.25346/S6/T4LHZF/3J75IE\n",
      "7, L4_6276_1842b.las, 22168, doi:10.25346/S6/T4LHZF/5QUJW4, https://doi.org/10.25346/S6/T4LHZF/5QUJW4\n",
      "8, L4_6276_1842c.las, 22170, doi:10.25346/S6/T4LHZF/I2NO6V, https://doi.org/10.25346/S6/T4LHZF/I2NO6V\n",
      "9, L4_6276_1842d.las, 22171, doi:10.25346/S6/T4LHZF/EASEAT, https://doi.org/10.25346/S6/T4LHZF/EASEAT\n",
      "10, L4_6276_1847a.las, 22172, doi:10.25346/S6/T4LHZF/SOEXLW, https://doi.org/10.25346/S6/T4LHZF/SOEXLW\n",
      "11, L4_6276_1847b.las, 22173, doi:10.25346/S6/T4LHZF/X2XS2C, https://doi.org/10.25346/S6/T4LHZF/X2XS2C\n",
      "12, L4_6276_1847c.las, 22174, doi:10.25346/S6/T4LHZF/HF0XYG, https://doi.org/10.25346/S6/T4LHZF/HF0XYG\n",
      "13, L4_6276_1847d.las, 22175, doi:10.25346/S6/T4LHZF/C9IZ9T, https://doi.org/10.25346/S6/T4LHZF/C9IZ9T\n",
      "14, L4_6276_1852a.las, 23409, doi:10.25346/S6/T4LHZF/OQB7CC, https://doi.org/10.25346/S6/T4LHZF/OQB7CC\n",
      "15, L4_6276_1852d.las, 23410, doi:10.25346/S6/T4LHZF/7QYV4A, https://doi.org/10.25346/S6/T4LHZF/7QYV4A\n",
      "16, L4_6281_1836a.las, 23413, doi:10.25346/S6/T4LHZF/31DKBA, https://doi.org/10.25346/S6/T4LHZF/31DKBA\n",
      "17, L4_6281_1836b.las, 23412, doi:10.25346/S6/T4LHZF/ND7WD8, https://doi.org/10.25346/S6/T4LHZF/ND7WD8\n",
      "18, L4_6281_1836c.las, 23415, doi:10.25346/S6/T4LHZF/IEIKLG, https://doi.org/10.25346/S6/T4LHZF/IEIKLG\n",
      "19, L4_6281_1836d.las, 23416, doi:10.25346/S6/T4LHZF/DFMQXZ, https://doi.org/10.25346/S6/T4LHZF/DFMQXZ\n",
      "20, L4_6281_1842a.las, 23414, doi:10.25346/S6/T4LHZF/9GNHYZ, https://doi.org/10.25346/S6/T4LHZF/9GNHYZ\n",
      "21, L4_6281_1842b.las, 23411, doi:10.25346/S6/T4LHZF/NJ5DKB, https://doi.org/10.25346/S6/T4LHZF/NJ5DKB\n",
      "22, L4_6281_1842c.las, 23421, doi:10.25346/S6/T4LHZF/NAYUNW, https://doi.org/10.25346/S6/T4LHZF/NAYUNW\n",
      "23, L4_6281_1842d.las, 23420, doi:10.25346/S6/T4LHZF/3WW637, https://doi.org/10.25346/S6/T4LHZF/3WW637\n",
      "24, L4_6281_1847a.las, 23422, doi:10.25346/S6/T4LHZF/9DB1YE, https://doi.org/10.25346/S6/T4LHZF/9DB1YE\n",
      "25, L4_6281_1847b.las, 23419, doi:10.25346/S6/T4LHZF/SHT7KZ, https://doi.org/10.25346/S6/T4LHZF/SHT7KZ\n",
      "26, L4_6281_1847c.las, 23417, doi:10.25346/S6/T4LHZF/ZGQVTV, https://doi.org/10.25346/S6/T4LHZF/ZGQVTV\n",
      "27, L4_6281_1847d.las, 23418, doi:10.25346/S6/T4LHZF/PGPAZM, https://doi.org/10.25346/S6/T4LHZF/PGPAZM\n",
      "28, L4_6281_1852a.las, 23423, doi:10.25346/S6/T4LHZF/AD2AQ2, https://doi.org/10.25346/S6/T4LHZF/AD2AQ2\n",
      "29, L4_6281_1852b.las, 23424, doi:10.25346/S6/T4LHZF/UNDBRU, https://doi.org/10.25346/S6/T4LHZF/UNDBRU\n",
      "30, L4_6281_1852c.las, 23427, doi:10.25346/S6/T4LHZF/VT6UMR, https://doi.org/10.25346/S6/T4LHZF/VT6UMR\n",
      "31, L4_6281_1852d.las, 23426, doi:10.25346/S6/T4LHZF/UMGOL1, https://doi.org/10.25346/S6/T4LHZF/UMGOL1\n",
      "32, L4_6281_1857d.las, 23425, doi:10.25346/S6/T4LHZF/SY4P96, https://doi.org/10.25346/S6/T4LHZF/SY4P96\n",
      "33, L4_6286_1836a.las, 23430, doi:10.25346/S6/T4LHZF/RAXRMJ, https://doi.org/10.25346/S6/T4LHZF/RAXRMJ\n",
      "34, L4_6286_1836b.las, 23428, doi:10.25346/S6/T4LHZF/RRCPZ4, https://doi.org/10.25346/S6/T4LHZF/RRCPZ4\n",
      "35, L4_6286_1836c.las, 23429, doi:10.25346/S6/T4LHZF/GWJIOL, https://doi.org/10.25346/S6/T4LHZF/GWJIOL\n",
      "36, L4_6286_1836d.las, 23431, doi:10.25346/S6/T4LHZF/VAVPNF, https://doi.org/10.25346/S6/T4LHZF/VAVPNF\n",
      "37, L4_6286_1842a.las, 23432, doi:10.25346/S6/T4LHZF/QQ759X, https://doi.org/10.25346/S6/T4LHZF/QQ759X\n",
      "38, L4_6286_1842b.las, 23433, doi:10.25346/S6/T4LHZF/AQAOSQ, https://doi.org/10.25346/S6/T4LHZF/AQAOSQ\n",
      "39, L4_6286_1842c.las, 23434, doi:10.25346/S6/T4LHZF/QP1M8P, https://doi.org/10.25346/S6/T4LHZF/QP1M8P\n",
      "40, L4_6286_1842d.las, 23435, doi:10.25346/S6/T4LHZF/ZILEA1, https://doi.org/10.25346/S6/T4LHZF/ZILEA1\n",
      "41, L4_6286_1847a.las, 23437, doi:10.25346/S6/T4LHZF/OPVFR6, https://doi.org/10.25346/S6/T4LHZF/OPVFR6\n",
      "42, L4_6286_1847b.las, 23439, doi:10.25346/S6/T4LHZF/CC4KXD, https://doi.org/10.25346/S6/T4LHZF/CC4KXD\n",
      "43, L4_6286_1847c.las, 23436, doi:10.25346/S6/T4LHZF/8NJ8FV, https://doi.org/10.25346/S6/T4LHZF/8NJ8FV\n",
      "44, L4_6286_1847d.las, 23438, doi:10.25346/S6/T4LHZF/SIGRA5, https://doi.org/10.25346/S6/T4LHZF/SIGRA5\n",
      "45, L4_6286_1852a.las, 23442, doi:10.25346/S6/T4LHZF/DNQCYI, https://doi.org/10.25346/S6/T4LHZF/DNQCYI\n",
      "46, L4_6286_1852b.las, 23440, doi:10.25346/S6/T4LHZF/6NAVTC, https://doi.org/10.25346/S6/T4LHZF/6NAVTC\n",
      "47, L4_6286_1852c.las, 23443, doi:10.25346/S6/T4LHZF/YIYKLP, https://doi.org/10.25346/S6/T4LHZF/YIYKLP\n",
      "48, L4_6286_1852d.las, 23441, doi:10.25346/S6/T4LHZF/JFEXLF, https://doi.org/10.25346/S6/T4LHZF/JFEXLF\n",
      "49, L4_6286_1857a.las, 23446, doi:10.25346/S6/T4LHZF/ZYGMHN, https://doi.org/10.25346/S6/T4LHZF/ZYGMHN\n",
      "50, L4_6286_1857b.las, 23444, doi:10.25346/S6/T4LHZF/DY8JPQ, https://doi.org/10.25346/S6/T4LHZF/DY8JPQ\n",
      "51, L4_6286_1857c.las, 23447, doi:10.25346/S6/T4LHZF/XARZJ5, https://doi.org/10.25346/S6/T4LHZF/XARZJ5\n",
      "52, L4_6286_1857d.las, 23445, doi:10.25346/S6/T4LHZF/M3CNFK, https://doi.org/10.25346/S6/T4LHZF/M3CNFK\n",
      "53, L4_6292_1831c.las, 23448, doi:10.25346/S6/T4LHZF/IJYKZ5, https://doi.org/10.25346/S6/T4LHZF/IJYKZ5\n",
      "54, L4_6292_1836a.las, 23449, doi:10.25346/S6/T4LHZF/YGMUDB, https://doi.org/10.25346/S6/T4LHZF/YGMUDB\n",
      "55, L4_6292_1836b.las, 23452, doi:10.25346/S6/T4LHZF/EMTPJX, https://doi.org/10.25346/S6/T4LHZF/EMTPJX\n",
      "56, L4_6292_1836c.las, 23451, doi:10.25346/S6/T4LHZF/5F9NV6, https://doi.org/10.25346/S6/T4LHZF/5F9NV6\n",
      "57, L4_6292_1836d.las, 23450, doi:10.25346/S6/T4LHZF/0PMIR3, https://doi.org/10.25346/S6/T4LHZF/0PMIR3\n",
      "58, stignore, 22176, doi:10.25346/S6/T4LHZF/Q5K2FW, https://doi.org/10.25346/S6/T4LHZF/Q5K2FW\n"
     ]
    }
   ],
   "source": [
    "from datetime import date\n",
    "total_files = (len(resp.json()['data']['latestVersion']['files']))\n",
    "print(total_files, \" files\")\n",
    "n = 0\n",
    "today = date.today()\n",
    "print(\"Today's date:\", today)\n",
    "filename1 = datetime.datetime.now().strftime(\"%Y%m%d-%H%M%S\") \n",
    "filename1 = 'lariac4_filelist-' + filename1+'.csv'\n",
    "print(filename1)\n",
    "\n",
    "f = open(filename1, 'w')\n",
    "while  n <= (total_files-1):\n",
    "    #print(n)\n",
    "    file_label = resp.json()['data']['latestVersion']['files'][n]['label']\n",
    "    #print(\"file label: \", file_label)\n",
    "    file_id = resp.json()['data']['latestVersion']['files'][n]['dataFile']['id']\n",
    "    #print(file_id)\n",
    "    file_URL = resp.json()['data']['latestVersion']['files'][n]['dataFile'][\"pidURL\"]\n",
    "    #print(file_URL)\n",
    "    file_doi = resp.json()['data']['latestVersion']['files'][n]['dataFile'][\"persistentId\"]\n",
    "    #print(file_doi)\n",
    "    #line=\"\"\n",
    "    #line=n,file_label, file_id, file_doi ,file_URL\n",
    "    #','.join(str(line))\n",
    "    #line = str(n + file_label + file_id + file_doi + file_URL)\n",
    "    #print(line)\n",
    "    print(str(n) + \", \" + file_label + \", \" + str(file_id) + \", \" + file_doi + \", \" + file_URL)\n",
    "    #f.write(str(line))\n",
    "    f.write(str(n) + \", \" + file_label + \", \" + str(file_id) + \", \" + file_doi + \", \" + file_URL)\n",
    "    f.write(\"\\n\")\n",
    "    n = n+1\n",
    "f.close()"
   ]
  },
  {
   "cell_type": "code",
   "execution_count": 57,
   "metadata": {},
   "outputs": [
    {
     "name": "stdout",
     "output_type": "stream",
     "text": [
      "Today's date: 2021-03-30\n",
      "filelist-20210330-152846.csv\n"
     ]
    }
   ],
   "source": [
    "# eventually concat this to the output file to differentiate\n",
    "from datetime import date\n",
    "today = date.today()\n",
    "print(\"Today's date:\", today)\n",
    "filename1 = datetime.datetime.now().strftime(\"%Y%m%d-%H%M%S\") \n",
    "filename1 = 'filelist-' + filename1+'.csv'\n",
    "print(filename1)"
   ]
  },
  {
   "cell_type": "code",
   "execution_count": null,
   "metadata": {},
   "outputs": [],
   "source": []
  },
  {
   "cell_type": "code",
   "execution_count": null,
   "metadata": {},
   "outputs": [],
   "source": []
  }
 ],
 "metadata": {
  "kernelspec": {
   "display_name": "Python 3",
   "language": "python",
   "name": "python3"
  },
  "language_info": {
   "codemirror_mode": {
    "name": "ipython",
    "version": 3
   },
   "file_extension": ".py",
   "mimetype": "text/x-python",
   "name": "python",
   "nbconvert_exporter": "python",
   "pygments_lexer": "ipython3",
   "version": "3.7.10"
  }
 },
 "nbformat": 4,
 "nbformat_minor": 4
}
