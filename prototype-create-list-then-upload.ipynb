{
 "cells": [
  {
   "cell_type": "code",
   "execution_count": 60,
   "id": "brutal-material",
   "metadata": {},
   "outputs": [],
   "source": [
    "#  basic idea of how to upload a bunch of LIARIC files to dataverse\n",
    "#  will most likely run from within the direction but add directory picking later\n",
    "# create a list in a directory\n",
    "# use glob to create list of files\n",
    "import glob\n",
    "import os"
   ]
  },
  {
   "cell_type": "code",
   "execution_count": 61,
   "id": "provincial-diploma",
   "metadata": {},
   "outputs": [
    {
     "name": "stdout",
     "output_type": "stream",
     "text": [
      "D:\\work-related\\pyDataverse\n",
      "D:\\work-related\\pyDataverse\n",
      "D:\\work-related\\pyDataverse\\*.las\n"
     ]
    }
   ],
   "source": [
    "current_path = os.getcwd()\n",
    "print(current_path)\n",
    "file_dir = \"D:\\work-related\\pyDataverse\"\n",
    "print(file_dir)\n",
    "print(file_dir + \"\\*.las\")"
   ]
  },
  {
   "cell_type": "code",
   "execution_count": 62,
   "id": "cathedral-tobago",
   "metadata": {},
   "outputs": [
    {
     "name": "stdout",
     "output_type": "stream",
     "text": [
      "D:\\work-related\\pyDataverse\n",
      "L4_6276_1842b.las\n",
      "L4_6292_1842a.las\n",
      "['L4_6276_1842b.las', 'L4_6292_1842a.las']\n"
     ]
    }
   ],
   "source": [
    "# Returns a list of names in list files. \n",
    "os.chdir(file_dir)\n",
    "print(os.getcwd())\n",
    "fileList = []\n",
    "files = glob.glob('*.las',recursive = True) \n",
    "for file in files: \n",
    "    fileList.append(file)\n",
    "    print(file) \n",
    "print(fileList)    "
   ]
  },
  {
   "cell_type": "code",
   "execution_count": 75,
   "id": "expired-romantic",
   "metadata": {},
   "outputs": [],
   "source": [
    "# hypothetically the upload code would be here\n",
    "def uploadFile(file):\n",
    "    # \n",
    "    msg = file + \" uploaded to dataverse\"\n",
    "    print(msg)\n",
    "    return []"
   ]
  },
  {
   "cell_type": "code",
   "execution_count": 76,
   "id": "stretch-artist",
   "metadata": {},
   "outputs": [
    {
     "name": "stdout",
     "output_type": "stream",
     "text": [
      "L4_6292_1842a.las uploaded to dataverse\n",
      "L4_6292_1842a.las uploaded to dataverse\n"
     ]
    }
   ],
   "source": [
    "#\n",
    "for i in fileList:\n",
    "    #print(i)\n",
    "    uploadFile(file)"
   ]
  },
  {
   "cell_type": "code",
   "execution_count": null,
   "id": "otherwise-hindu",
   "metadata": {},
   "outputs": [],
   "source": []
  }
 ],
 "metadata": {
  "kernelspec": {
   "display_name": "Python 3",
   "language": "python",
   "name": "python3"
  },
  "language_info": {
   "codemirror_mode": {
    "name": "ipython",
    "version": 3
   },
   "file_extension": ".py",
   "mimetype": "text/x-python",
   "name": "python",
   "nbconvert_exporter": "python",
   "pygments_lexer": "ipython3",
   "version": "3.7.10"
  }
 },
 "nbformat": 4,
 "nbformat_minor": 5
}
