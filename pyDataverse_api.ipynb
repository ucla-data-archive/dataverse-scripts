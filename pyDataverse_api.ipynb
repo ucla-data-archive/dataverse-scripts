{
 "cells": [
  {
   "cell_type": "code",
   "execution_count": 22,
   "metadata": {},
   "outputs": [],
   "source": [
    "# may have to install before running this notebook\n",
    "# pip install pyDataverse  \n",
    "# pip show pyDataverse"
   ]
  },
  {
   "cell_type": "code",
   "execution_count": 23,
   "metadata": {},
   "outputs": [],
   "source": [
    "#import pyDataverse\n",
    "from pyDataverse.api import NativeApi\n",
    "from pyDataverse.api import DataAccessApi\n",
    "from pyDataverse.models import Dataset\n",
    "ds = Dataset()\n",
    "from pyDataverse.models import Datafile\n",
    "df = Datafile()\n",
    "from pyDataverse.models import Dataverse\n",
    "dv='dataverse'\n",
    "# establish connection"
   ]
  },
  {
   "cell_type": "code",
   "execution_count": 24,
   "metadata": {},
   "outputs": [],
   "source": [
    "base_url = 'https://test.dataverse.ucla.edu'\n",
    "files = DataAccessApi(base_url)"
   ]
  },
  {
   "cell_type": "code",
   "execution_count": 25,
   "metadata": {},
   "outputs": [],
   "source": [
    "# test dataverse api key\n",
    "api_token = 'e2c63642-10d8-44b6-aaa3-f187ca11c2fe'"
   ]
  },
  {
   "cell_type": "code",
   "execution_count": 26,
   "metadata": {},
   "outputs": [],
   "source": [
    "dataset_id = 1 "
   ]
  },
  {
   "cell_type": "code",
   "execution_count": 27,
   "metadata": {},
   "outputs": [],
   "source": [
    "#api=Api(base_url)\n",
    "api = NativeApi(base_url, api_token)"
   ]
  },
  {
   "cell_type": "code",
   "execution_count": 28,
   "metadata": {},
   "outputs": [
    {
     "data": {
      "text/plain": [
       "{'status': 'OK', 'data': {'version': '5.3', 'build': '286-fcb5ce7'}}"
      ]
     },
     "execution_count": 28,
     "metadata": {},
     "output_type": "execute_result"
    }
   ],
   "source": [
    "resp = api.get_info_version()\n",
    "resp.json()"
   ]
  },
  {
   "cell_type": "code",
   "execution_count": 29,
   "metadata": {},
   "outputs": [],
   "source": [
    "# get dataverse\n",
    "dv='dataverse'"
   ]
  },
  {
   "cell_type": "code",
   "execution_count": 30,
   "metadata": {},
   "outputs": [
    {
     "data": {
      "text/plain": [
       "{'status': 'OK',\n",
       " 'data': {'id': 1,\n",
       "  'alias': 'dataverse',\n",
       "  'name': 'UCLA Dataverse Test',\n",
       "  'affiliation': 'UCLA',\n",
       "  'dataverseContacts': [{'displayOrder': 0,\n",
       "    'contactEmail': 'jamison@library.ucla.edu'}],\n",
       "  'permissionRoot': True,\n",
       "  'description': '4.18.1 issue - must have a description for the featured sites to appear',\n",
       "  'dataverseType': 'ORGANIZATIONS_INSTITUTIONS',\n",
       "  'creationDate': '2018-10-01T22:48:48Z',\n",
       "  'theme': {'id': 1,\n",
       "   'linkColor': '428BCA',\n",
       "   'textColor': '888888',\n",
       "   'backgroundColor': 'FFFFFF'},\n",
       "  'storageDriverLabel': 's3-dataverse-main'}}"
      ]
     },
     "execution_count": 30,
     "metadata": {},
     "output_type": "execute_result"
    }
   ],
   "source": [
    "resp=api.get_dataverse(dv)\n",
    "resp.json()"
   ]
  },
  {
   "cell_type": "code",
   "execution_count": 31,
   "metadata": {},
   "outputs": [
    {
     "name": "stdout",
     "output_type": "stream",
     "text": [
      "identifier:  doi:10.5072/FK2/NYH0U0\n",
      "publisher:  UCLA Dataverse Test\n",
      "lariac4 direct upload\n",
      "dataset id:  5472\n",
      "3  files\n",
      "{'description': 'direct upload of a LARIAC4 file', 'label': 'B01_Contours.gdb.zip', 'restricted': False, 'version': 1, 'datasetVersionId': 665, 'dataFile': {'id': 5473, 'persistentId': 'doi:10.5072/FK2/NYH0U0/PHFOND', 'pidURL': 'https://doi.org/10.5072/FK2/NYH0U0/PHFOND', 'filename': 'B01_Contours.gdb.zip', 'contentType': 'application/zip', 'filesize': 3082248622, 'description': 'direct upload of a LARIAC4 file', 'storageIdentifier': 's3-test-lariac-direct://dataverse-test-lariac-direct:174371d1e95-04763c914cb8', 'rootDataFileId': -1, 'md5': '3d7331857e00a1aa7452a3a147280666', 'checksum': {'type': 'MD5', 'value': '3d7331857e00a1aa7452a3a147280666'}, 'creationDate': '2020-08-28'}}\n",
      "9\n",
      "<class 'dict'>\n",
      "dict_keys(['id', 'identifier', 'persistentUrl', 'protocol', 'authority', 'publisher', 'publicationDate', 'storageIdentifier', 'latestVersion'])\n"
     ]
    }
   ],
   "source": [
    "## get dataset of the lariac4 dataset\n",
    "# https://doi.org/10.5072/FK2/NYH0U0\n",
    "identifier = 'doi:10.5072/FK2/NYH0U0' \n",
    "print(\"identifier: \", identifier)\n",
    "resp = api.get_dataset(identifier)\n",
    "datasetID = resp.json()['data']['publisher']\n",
    "print(\"publisher: \", datasetID)\n",
    "ds_title = resp.json()['data']['latestVersion']['metadataBlocks']['citation']['fields'][0]['value']\n",
    "print(ds_title)\n",
    "resp = api.get_dataset(identifier)\n",
    "datasetID = resp.json()['data']['id']\n",
    "print(\"dataset id: \", datasetID)\n",
    "total_files = (len(resp.json()['data']['latestVersion']['files']))\n",
    "print(total_files, \" files\")\n",
    "fileOut = resp.json()['data']\n",
    "dataset_name = resp.json()['data']['latestVersion']['files'][0]\n",
    "print(dataset_name)\n",
    "# print(fileOut['latestVersion']['files'])\n",
    "print(len(fileOut))\n",
    "print(type(fileOut))\n",
    "#print(fileOut)\n",
    "print(fileOut.keys()) "
   ]
  },
  {
   "cell_type": "code",
   "execution_count": 122,
   "metadata": {},
   "outputs": [
    {
     "name": "stdout",
     "output_type": "stream",
     "text": [
      "dataset id:  5472\n"
     ]
    },
    {
     "ename": "OperationFailedError",
     "evalue": "ERROR: GET HTTP 403 - https://test.dataverse.ucla.edu/api/access/datafiles/5472. MSG: {\"status\":\"ERROR\",\"code\":403,\"message\":\"Not authorized to access this object via this API endpoint. Please check your code for typos, or consult our API guide at http://guides.dataverse.org.\",\"requestUrl\":\"https://test.dataverse.ucla.edu/api/v1/access/datafiles/5472?User-Agent=pydataverse\",\"requestMethod\":\"GET\"}",
     "output_type": "error",
     "traceback": [
      "\u001b[1;31m---------------------------------------------------------------------------\u001b[0m",
      "\u001b[1;31mOperationFailedError\u001b[0m                      Traceback (most recent call last)",
      "\u001b[1;32m<ipython-input-122-1169b1e68ecb>\u001b[0m in \u001b[0;36m<module>\u001b[1;34m\u001b[0m\n\u001b[0;32m      3\u001b[0m \u001b[0mprint\u001b[0m\u001b[1;33m(\u001b[0m\u001b[1;34m\"dataset id: \"\u001b[0m\u001b[1;33m,\u001b[0m \u001b[0mid\u001b[0m\u001b[1;33m)\u001b[0m\u001b[1;33m\u001b[0m\u001b[1;33m\u001b[0m\u001b[0m\n\u001b[0;32m      4\u001b[0m \u001b[1;31m# https://doi.org/10.5072/FK2/NYH0U0\u001b[0m\u001b[1;33m\u001b[0m\u001b[1;33m\u001b[0m\u001b[1;33m\u001b[0m\u001b[0m\n\u001b[1;32m----> 5\u001b[1;33m \u001b[0mfiles\u001b[0m\u001b[1;33m=\u001b[0m\u001b[0mdata_api\u001b[0m\u001b[1;33m.\u001b[0m\u001b[0mget_datafiles\u001b[0m\u001b[1;33m(\u001b[0m\u001b[0mid\u001b[0m\u001b[1;33m)\u001b[0m\u001b[1;33m\u001b[0m\u001b[1;33m\u001b[0m\u001b[0m\n\u001b[0m\u001b[0;32m      6\u001b[0m \u001b[0mprint\u001b[0m\u001b[1;33m(\u001b[0m\u001b[0mfiles\u001b[0m\u001b[1;33m)\u001b[0m\u001b[1;33m\u001b[0m\u001b[1;33m\u001b[0m\u001b[0m\n",
      "\u001b[1;32m~\\anaconda3\\lib\\site-packages\\pyDataverse\\api.py\u001b[0m in \u001b[0;36mget_datafiles\u001b[1;34m(self, identifier, data_format, auth)\u001b[0m\n\u001b[0;32m    382\u001b[0m         \u001b[1;32mif\u001b[0m \u001b[0mdata_format\u001b[0m\u001b[1;33m:\u001b[0m\u001b[1;33m\u001b[0m\u001b[1;33m\u001b[0m\u001b[0m\n\u001b[0;32m    383\u001b[0m             \u001b[0murl\u001b[0m \u001b[1;33m+=\u001b[0m \u001b[1;34m\"?format={0}\"\u001b[0m\u001b[1;33m.\u001b[0m\u001b[0mformat\u001b[0m\u001b[1;33m(\u001b[0m\u001b[0mdata_format\u001b[0m\u001b[1;33m)\u001b[0m\u001b[1;33m\u001b[0m\u001b[1;33m\u001b[0m\u001b[0m\n\u001b[1;32m--> 384\u001b[1;33m         \u001b[1;32mreturn\u001b[0m \u001b[0mself\u001b[0m\u001b[1;33m.\u001b[0m\u001b[0mget_request\u001b[0m\u001b[1;33m(\u001b[0m\u001b[0murl\u001b[0m\u001b[1;33m,\u001b[0m \u001b[0mauth\u001b[0m\u001b[1;33m=\u001b[0m\u001b[0mauth\u001b[0m\u001b[1;33m)\u001b[0m\u001b[1;33m\u001b[0m\u001b[1;33m\u001b[0m\u001b[0m\n\u001b[0m\u001b[0;32m    385\u001b[0m \u001b[1;33m\u001b[0m\u001b[0m\n\u001b[0;32m    386\u001b[0m     \u001b[1;32mdef\u001b[0m \u001b[0mget_datafile_bundle\u001b[0m\u001b[1;33m(\u001b[0m\u001b[0mself\u001b[0m\u001b[1;33m,\u001b[0m \u001b[0midentifier\u001b[0m\u001b[1;33m,\u001b[0m \u001b[0mfile_metadata_id\u001b[0m\u001b[1;33m=\u001b[0m\u001b[1;32mNone\u001b[0m\u001b[1;33m,\u001b[0m \u001b[0mauth\u001b[0m\u001b[1;33m=\u001b[0m\u001b[1;32mFalse\u001b[0m\u001b[1;33m)\u001b[0m\u001b[1;33m:\u001b[0m\u001b[1;33m\u001b[0m\u001b[1;33m\u001b[0m\u001b[0m\n",
      "\u001b[1;32m~\\anaconda3\\lib\\site-packages\\pyDataverse\\api.py\u001b[0m in \u001b[0;36mget_request\u001b[1;34m(self, url, params, auth)\u001b[0m\n\u001b[0;32m    132\u001b[0m                     raise OperationFailedError(\n\u001b[0;32m    133\u001b[0m                         \"ERROR: GET HTTP {0} - {1}. MSG: {2}\".format(\n\u001b[1;32m--> 134\u001b[1;33m                             \u001b[0mresp\u001b[0m\u001b[1;33m.\u001b[0m\u001b[0mstatus_code\u001b[0m\u001b[1;33m,\u001b[0m \u001b[0murl\u001b[0m\u001b[1;33m,\u001b[0m \u001b[0merror_msg\u001b[0m\u001b[1;33m\u001b[0m\u001b[1;33m\u001b[0m\u001b[0m\n\u001b[0m\u001b[0;32m    135\u001b[0m                         )\n\u001b[0;32m    136\u001b[0m                     )\n",
      "\u001b[1;31mOperationFailedError\u001b[0m: ERROR: GET HTTP 403 - https://test.dataverse.ucla.edu/api/access/datafiles/5472. MSG: {\"status\":\"ERROR\",\"code\":403,\"message\":\"Not authorized to access this object via this API endpoint. Please check your code for typos, or consult our API guide at http://guides.dataverse.org.\",\"requestUrl\":\"https://test.dataverse.ucla.edu/api/v1/access/datafiles/5472?User-Agent=pydataverse\",\"requestMethod\":\"GET\"}"
     ]
    }
   ],
   "source": [
    "from datetime import date\n",
    "data_api = DataAccessApi(base_url)\n",
    "id = '5472'\n",
    "print(\"dataset id: \", id)\n",
    "# https://doi.org/10.5072/FK2/NYH0U0\n",
    "files=data_api.get_datafiles(id)\n",
    "print(files) "
   ]
  },
  {
   "cell_type": "code",
   "execution_count": 32,
   "metadata": {},
   "outputs": [
    {
     "data": {
      "text/plain": [
       "{'status': 'OK',\n",
       " 'data': {'id': 5472,\n",
       "  'identifier': 'FK2/NYH0U0',\n",
       "  'persistentUrl': 'https://doi.org/10.5072/FK2/NYH0U0',\n",
       "  'protocol': 'doi',\n",
       "  'authority': '10.5072',\n",
       "  'publisher': 'UCLA Dataverse Test',\n",
       "  'publicationDate': '2020-08-28',\n",
       "  'storageIdentifier': 's3-test-lariac://10.5072/FK2/NYH0U0',\n",
       "  'latestVersion': {'id': 665,\n",
       "   'datasetId': 5472,\n",
       "   'datasetPersistentId': 'doi:10.5072/FK2/NYH0U0',\n",
       "   'storageIdentifier': 's3-test-lariac://10.5072/FK2/NYH0U0',\n",
       "   'versionNumber': 3,\n",
       "   'versionMinorNumber': 0,\n",
       "   'versionState': 'RELEASED',\n",
       "   'lastUpdateTime': '2020-08-29T01:00:19Z',\n",
       "   'releaseTime': '2020-08-29T01:00:19Z',\n",
       "   'createTime': '2020-08-29T01:00:11Z',\n",
       "   'license': 'NONE',\n",
       "   'fileAccessRequest': False,\n",
       "   'metadataBlocks': {'citation': {'displayName': 'Citation Metadata',\n",
       "     'fields': [{'typeName': 'title',\n",
       "       'multiple': False,\n",
       "       'typeClass': 'primitive',\n",
       "       'value': 'lariac4 direct upload'},\n",
       "      {'typeName': 'author',\n",
       "       'multiple': True,\n",
       "       'typeClass': 'compound',\n",
       "       'value': [{'authorName': {'typeName': 'authorName',\n",
       "          'multiple': False,\n",
       "          'typeClass': 'primitive',\n",
       "          'value': 'JAMISON, JINA'},\n",
       "         'authorAffiliation': {'typeName': 'authorAffiliation',\n",
       "          'multiple': False,\n",
       "          'typeClass': 'primitive',\n",
       "          'value': 'University of California, Los Angeles'}}]},\n",
       "      {'typeName': 'datasetContact',\n",
       "       'multiple': True,\n",
       "       'typeClass': 'compound',\n",
       "       'value': [{'datasetContactName': {'typeName': 'datasetContactName',\n",
       "          'multiple': False,\n",
       "          'typeClass': 'primitive',\n",
       "          'value': 'JAMISON, JINA'},\n",
       "         'datasetContactAffiliation': {'typeName': 'datasetContactAffiliation',\n",
       "          'multiple': False,\n",
       "          'typeClass': 'primitive',\n",
       "          'value': 'University of California, Los Angeles'},\n",
       "         'datasetContactEmail': {'typeName': 'datasetContactEmail',\n",
       "          'multiple': False,\n",
       "          'typeClass': 'primitive',\n",
       "          'value': 'jamison@library.ucla.edu'}}]},\n",
       "      {'typeName': 'dsDescription',\n",
       "       'multiple': True,\n",
       "       'typeClass': 'compound',\n",
       "       'value': [{'dsDescriptionValue': {'typeName': 'dsDescriptionValue',\n",
       "          'multiple': False,\n",
       "          'typeClass': 'primitive',\n",
       "          'value': 'lariac test direct uploads'}}]},\n",
       "      {'typeName': 'subject',\n",
       "       'multiple': True,\n",
       "       'typeClass': 'controlledVocabulary',\n",
       "       'value': ['Agricultural Sciences']},\n",
       "      {'typeName': 'notesText',\n",
       "       'multiple': False,\n",
       "       'typeClass': 'primitive',\n",
       "       'value': 'lariac data'},\n",
       "      {'typeName': 'depositor',\n",
       "       'multiple': False,\n",
       "       'typeClass': 'primitive',\n",
       "       'value': 'JAMISON, JINA'},\n",
       "      {'typeName': 'dateOfDeposit',\n",
       "       'multiple': False,\n",
       "       'typeClass': 'primitive',\n",
       "       'value': '2020-08-28'}]}},\n",
       "   'files': [{'description': 'direct upload of a LARIAC4 file',\n",
       "     'label': 'B01_Contours.gdb.zip',\n",
       "     'restricted': False,\n",
       "     'version': 1,\n",
       "     'datasetVersionId': 665,\n",
       "     'dataFile': {'id': 5473,\n",
       "      'persistentId': 'doi:10.5072/FK2/NYH0U0/PHFOND',\n",
       "      'pidURL': 'https://doi.org/10.5072/FK2/NYH0U0/PHFOND',\n",
       "      'filename': 'B01_Contours.gdb.zip',\n",
       "      'contentType': 'application/zip',\n",
       "      'filesize': 3082248622,\n",
       "      'description': 'direct upload of a LARIAC4 file',\n",
       "      'storageIdentifier': 's3-test-lariac-direct://dataverse-test-lariac-direct:174371d1e95-04763c914cb8',\n",
       "      'rootDataFileId': -1,\n",
       "      'md5': '3d7331857e00a1aa7452a3a147280666',\n",
       "      'checksum': {'type': 'MD5', 'value': '3d7331857e00a1aa7452a3a147280666'},\n",
       "      'creationDate': '2020-08-28'}},\n",
       "    {'description': 'test upload of QGIS geopackage file',\n",
       "     'label': 'LA_Metro_Area_Survey_1970.gpkg.zip',\n",
       "     'restricted': False,\n",
       "     'version': 1,\n",
       "     'datasetVersionId': 665,\n",
       "     'dataFile': {'id': 5475,\n",
       "      'persistentId': 'doi:10.5072/FK2/NYH0U0/ZXZPVR',\n",
       "      'pidURL': 'https://doi.org/10.5072/FK2/NYH0U0/ZXZPVR',\n",
       "      'filename': 'LA_Metro_Area_Survey_1970.gpkg.zip',\n",
       "      'contentType': 'application/zip',\n",
       "      'filesize': 2424896263,\n",
       "      'description': 'test upload of QGIS geopackage file',\n",
       "      'storageIdentifier': 's3-test-lariac-direct://dataverse-test-lariac-direct:174377815b3-70882eae90df',\n",
       "      'rootDataFileId': -1,\n",
       "      'md5': 'b1edb27aa72de06b59e99ee8586484f1',\n",
       "      'checksum': {'type': 'MD5', 'value': 'b1edb27aa72de06b59e99ee8586484f1'},\n",
       "      'creationDate': '2020-08-29'}},\n",
       "    {'description': 'direct upload of a zipped geodatabase',\n",
       "     'label': 'unit08.gdb.zip',\n",
       "     'restricted': False,\n",
       "     'version': 1,\n",
       "     'datasetVersionId': 665,\n",
       "     'dataFile': {'id': 5474,\n",
       "      'persistentId': 'doi:10.5072/FK2/NYH0U0/GE29BS',\n",
       "      'pidURL': 'https://doi.org/10.5072/FK2/NYH0U0/GE29BS',\n",
       "      'filename': 'unit08.gdb.zip',\n",
       "      'contentType': 'application/zip',\n",
       "      'filesize': 72434223,\n",
       "      'description': 'direct upload of a zipped geodatabase',\n",
       "      'storageIdentifier': 's3-test-lariac-direct://dataverse-test-lariac-direct:174371b1c91-70dc54d78dd1',\n",
       "      'rootDataFileId': -1,\n",
       "      'md5': 'b77b5eb3fa1e46d0a5be88493348fc2b',\n",
       "      'checksum': {'type': 'MD5', 'value': 'b77b5eb3fa1e46d0a5be88493348fc2b'},\n",
       "      'creationDate': '2020-08-28'}}]}}}"
      ]
     },
     "execution_count": 32,
     "metadata": {},
     "output_type": "execute_result"
    }
   ],
   "source": [
    "resp.json()   #  all the fields you can get"
   ]
  },
  {
   "cell_type": "code",
   "execution_count": 33,
   "metadata": {},
   "outputs": [
    {
     "data": {
      "text/plain": [
       "(4943, 'datasetPersistentId', 'protocol')"
      ]
     },
     "execution_count": 33,
     "metadata": {},
     "output_type": "execute_result"
    }
   ],
   "source": [
    "# get datafile \n",
    "resp=api.get_dataset('doi:10.5072/FK2/YBKTTW')\n",
    "resp.json()['data']['id'], 'datasetPersistentId', 'protocol'"
   ]
  },
  {
   "cell_type": "code",
   "execution_count": 60,
   "metadata": {},
   "outputs": [
    {
     "data": {
      "text/plain": [
       "'D:\\\\work-related\\\\pyDataverse'"
      ]
     },
     "execution_count": 60,
     "metadata": {},
     "output_type": "execute_result"
    }
   ],
   "source": [
    "pwd"
   ]
  },
  {
   "cell_type": "code",
   "execution_count": 13,
   "metadata": {},
   "outputs": [],
   "source": [
    "# create dataverse,  then import metadata"
   ]
  },
  {
   "cell_type": "code",
   "execution_count": null,
   "metadata": {},
   "outputs": [],
   "source": []
  }
 ],
 "metadata": {
  "kernelspec": {
   "display_name": "Python 3",
   "language": "python",
   "name": "python3"
  },
  "language_info": {
   "codemirror_mode": {
    "name": "ipython",
    "version": 3
   },
   "file_extension": ".py",
   "mimetype": "text/x-python",
   "name": "python",
   "nbconvert_exporter": "python",
   "pygments_lexer": "ipython3",
   "version": "3.7.10"
  }
 },
 "nbformat": 4,
 "nbformat_minor": 4
}
