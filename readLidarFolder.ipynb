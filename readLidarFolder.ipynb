{
 "cells": [
  {
   "cell_type": "code",
   "execution_count": 14,
   "id": "agricultural-suicide",
   "metadata": {},
   "outputs": [],
   "source": [
    "# read a lariac4 file / liDar\n",
    "# python shapefile only reas shp or dbf\n",
    "from laspy.file import File\n",
    "from laspy import header\n",
    "import numpy as np\n",
    "# use glob to create list of files\n",
    "import glob"
   ]
  },
  {
   "cell_type": "code",
   "execution_count": 24,
   "id": "sensitive-salon",
   "metadata": {},
   "outputs": [
    {
     "name": "stdout",
     "output_type": "stream",
     "text": [
      "Using glob.glob()\n",
      "L4_6276_1842b.las [6276400.0, 1844640.0, -619.16] [6279039.99, 1847279.99, 1536.32]\n",
      "L4_6292_1842a.las [6292240.0, 1842000.0, 479.1] [6294879.99, 1844639.99, 1545.46]\n"
     ]
    }
   ],
   "source": [
    "# Returns a list of names in list files. \n",
    "print(\"Using glob.glob()\") \n",
    "files = glob.glob('*.las',recursive = True) \n",
    "for file in files: \n",
    "    #print(file) \n",
    "    lariac4_lidar = File(file, mode='r')\n",
    "    # Header Information\n",
    "    Min = lariac4_lidar.header.min \n",
    "    #print(Min)  # info about min.x,min.y,min.z\n",
    "    Max = lariac4_lidar.header.max\n",
    "    print(file, Min, Max) # info about max.x,max.y,max.zMax = inFile.header.max\n",
    "    "
   ]
  },
  {
   "cell_type": "code",
   "execution_count": 23,
   "id": "dried-october",
   "metadata": {},
   "outputs": [
    {
     "name": "stdout",
     "output_type": "stream",
     "text": [
      "\n",
      "Using glob.iglob()\n",
      "L4_6276_1842b.las [6276400.16 6276400.43 6276400.55 ... 6279016.78 6279016.94 6279016.99]\n",
      "L4_6292_1842a.las [6292492.1  6292492.13 6292491.91 ... 6294879.24 6294879.05 6294878.93]\n"
     ]
    }
   ],
   "source": [
    "# It returns an iterator which will  \n",
    "# be printed simultaneously. \n",
    "print(\"\\nUsing glob.iglob()\") \n",
    "for filename in glob.iglob('*.las',recursive = True): \n",
    "    #print(filename) \n",
    "    lariac4_lidar = File(filename, mode='r')\n",
    "    def scaled_x_dimension(filename):\n",
    "        x_dimension = lariac4_lidar.X\n",
    "        scale = lariac4_lidar.header.scale[0]\n",
    "        offset = filename.header.offset[0]\n",
    "        return(x_dimension*scale + offset)\n",
    "    scaled_x = scaled_x_dimension(lariac4_lidar)\n",
    "    print(filename, scaled_x)\n",
    "\n",
    "    "
   ]
  },
  {
   "cell_type": "code",
   "execution_count": null,
   "id": "different-place",
   "metadata": {},
   "outputs": [],
   "source": []
  }
 ],
 "metadata": {
  "kernelspec": {
   "display_name": "Python 3",
   "language": "python",
   "name": "python3"
  },
  "language_info": {
   "codemirror_mode": {
    "name": "ipython",
    "version": 3
   },
   "file_extension": ".py",
   "mimetype": "text/x-python",
   "name": "python",
   "nbconvert_exporter": "python",
   "pygments_lexer": "ipython3",
   "version": "3.7.6"
  }
 },
 "nbformat": 4,
 "nbformat_minor": 5
}
