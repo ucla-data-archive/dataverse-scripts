{
 "cells": [
  {
   "cell_type": "code",
   "execution_count": 1,
   "id": "adjacent-platform",
   "metadata": {},
   "outputs": [],
   "source": [
    "# read a lariac4 file / liDar\n",
    "# python shapefile only reas shp or dbf\n",
    "from laspy.file import File\n",
    "from laspy import header\n",
    "import numpy as np\n",
    "\n",
    "lariac4_lidar = File('L4_6276_1842b.las', mode='r')"
   ]
  },
  {
   "cell_type": "code",
   "execution_count": 2,
   "id": "spanish-setting",
   "metadata": {},
   "outputs": [
    {
     "data": {
      "text/plain": [
       "array([6276400.16, 6276400.43, 6276400.55, ..., 6279016.78, 6279016.94,\n",
       "       6279016.99])"
      ]
     },
     "execution_count": 2,
     "metadata": {},
     "output_type": "execute_result"
    }
   ],
   "source": [
    "# Grab all of the points from the file.\n",
    "point_records = lariac4_lidar.points\n",
    "\n",
    "# Grab just the X dimension from the file, and scale it.\n",
    "\n",
    "def scaled_x_dimension(las_file):\n",
    "    x_dimension = las_file.X\n",
    "    scale = las_file.header.scale[0]\n",
    "    offset = las_file.header.offset[0]\n",
    "    return(x_dimension*scale + offset)\n",
    "\n",
    "scaled_x = scaled_x_dimension(lariac4_lidar)\n",
    "scaled_x"
   ]
  },
  {
   "cell_type": "code",
   "execution_count": 9,
   "id": "complicated-division",
   "metadata": {},
   "outputs": [
    {
     "name": "stdout",
     "output_type": "stream",
     "text": [
      "X\n",
      "Y\n",
      "Z\n",
      "intensity\n",
      "flag_byte\n",
      "classification_flags\n",
      "classification_byte\n",
      "user_data\n",
      "scan_angle\n",
      "pt_src_id\n",
      "gps_time\n"
     ]
    }
   ],
   "source": [
    "# Find out what the point format looks like.\n",
    "pointformat = lariac4_lidar.point_format\n",
    "for spec in lariac4_lidar.point_format:\n",
    "    print(spec.name)\n",
    "# print(lariac4_lidar.point_format.xml())\n",
    "\n"
   ]
  },
  {
   "cell_type": "code",
   "execution_count": 10,
   "id": "mature-attitude",
   "metadata": {},
   "outputs": [
    {
     "name": "stdout",
     "output_type": "stream",
     "text": [
      "file_sig\n",
      "file_source_id\n",
      "global_encoding\n",
      "proj_id_1\n",
      "proj_id_2\n",
      "proj_id_3\n",
      "proj_id_4\n",
      "version_major\n",
      "version_minor\n",
      "system_id\n",
      "software_id\n",
      "created_day\n",
      "created_year\n",
      "header_size\n",
      "data_offset\n",
      "num_variable_len_recs\n",
      "data_format_id\n",
      "data_record_length\n",
      "legacy_point_records_count\n",
      "legacy_point_return_count\n",
      "x_scale\n",
      "y_scale\n",
      "z_scale\n",
      "x_offset\n",
      "y_offset\n",
      "z_offset\n",
      "x_max\n",
      "x_min\n",
      "y_max\n",
      "y_min\n",
      "z_max\n",
      "z_min\n",
      "start_wavefm_data_rec\n",
      "start_first_evlr\n",
      "num_evlrs\n",
      "point_records_count\n",
      "point_return_count\n"
     ]
    }
   ],
   "source": [
    "#Lets take a look at the header also.\n",
    "headerformat = lariac4_lidar.header.header_format\n",
    "headerformat\n",
    "for spec in headerformat:\n",
    "    print(spec.name)\n",
    "\n",
    "    #headerformat.x_min"
   ]
  },
  {
   "cell_type": "code",
   "execution_count": 3,
   "id": "affiliated-garlic",
   "metadata": {},
   "outputs": [
    {
     "name": "stdout",
     "output_type": "stream",
     "text": [
      "[6276400.0, 1844640.0, -619.16]\n",
      "[6279039.99, 1847279.99, 1536.32]\n"
     ]
    },
    {
     "data": {
      "text/plain": [
       "<laspy.file.File at 0x235be6976c8>"
      ]
     },
     "execution_count": 3,
     "metadata": {},
     "output_type": "execute_result"
    }
   ],
   "source": [
    "# Header Information\n",
    "Min = lariac4_lidar.header.min \n",
    "print(Min)  # info about min.x,min.y,min.z\n",
    "Max = lariac4_lidar.header.max\n",
    "print(Max) # info about max.x,max.y,max.zMax = inFile.header.max\n",
    "lariac4_lidar"
   ]
  },
  {
   "cell_type": "code",
   "execution_count": 48,
   "id": "likely-sociology",
   "metadata": {},
   "outputs": [
    {
     "name": "stdout",
     "output_type": "stream",
     "text": [
      "[6276400.0, 1844640.0, -619.16]   [6279039.99, 1847279.99, 1536.32]\n",
      "[6276400.16 6276400.43 6276400.55 ... 6279016.78 6279016.94 6279016.99]\n",
      "[1846989.31 1846988.63 1846987.78 ... 1844662.06 1844664.85 1844664.12]\n"
     ]
    }
   ],
   "source": [
    "# pull out x, y both min and max\n",
    "# inFile.header.max[0]\n",
    "print(lariac4_lidar.header.min, \" \", lariac4_lidar.header.max)\n",
    "# get_header_property(name)\n",
    "X = lariac4_lidar.x  # only X data\n",
    "print(X)\n",
    "Y = lariac4_lidar.y # only Y data \n",
    "print(Y)"
   ]
  },
  {
   "cell_type": "code",
   "execution_count": 20,
   "id": "coated-newspaper",
   "metadata": {},
   "outputs": [
    {
     "name": "stdout",
     "output_type": "stream",
     "text": [
      "[6276400.16 6276400.43 6276400.55 ... 6279016.78 6279016.94 6279016.99]\n"
     ]
    }
   ],
   "source": [
    "# Grab all of the points from the file.\n",
    "point_records = lariac4_lidar.points\n",
    "\n",
    "# Grab just the X dimension from the file, and scale it.\n",
    "\n",
    "def scaled_x_dimension(lariac4_lidar):\n",
    "    x_dimension = lariac4_lidar.X\n",
    "    scale = lariac4_lidar.header.scale[0]\n",
    "    offset = lariac4_lidar.header.offset[0]\n",
    "    return(x_dimension*scale + offset)\n",
    "\n",
    "scaled_x = scaled_x_dimension(lariac4_lidar)\n",
    "print(scaled_x)"
   ]
  },
  {
   "cell_type": "code",
   "execution_count": null,
   "id": "committed-premises",
   "metadata": {},
   "outputs": [],
   "source": [
    "# bounding box specified by file.header.max and file.header.min."
   ]
  },
  {
   "cell_type": "code",
   "execution_count": 23,
   "id": "mineral-tutorial",
   "metadata": {},
   "outputs": [
    {
     "name": "stdout",
     "output_type": "stream",
     "text": [
      "x:  [6276400.16 6276400.43 6276400.55 ... 6279016.78 6279016.94 6279016.99]\n"
     ]
    }
   ],
   "source": [
    "# [6276400.0, 1844640.0, -619.16]   [6279039.99, 1847279.99, 1536.32]\n",
    "\n",
    "print(\"x: \", lariac4_lidar.x)"
   ]
  },
  {
   "cell_type": "code",
   "execution_count": 24,
   "id": "fourth-mortgage",
   "metadata": {},
   "outputs": [
    {
     "name": "stdout",
     "output_type": "stream",
     "text": [
      "y  [1846989.31 1846988.63 1846987.78 ... 1844662.06 1844664.85 1844664.12]\n"
     ]
    }
   ],
   "source": [
    "print(\"y \", lariac4_lidar.y)"
   ]
  },
  {
   "cell_type": "code",
   "execution_count": 26,
   "id": "incident-conclusion",
   "metadata": {},
   "outputs": [
    {
     "name": "stdout",
     "output_type": "stream",
     "text": [
      "[627640016 627640043 627640055 ... 627901678 627901694 627901699]\n"
     ]
    }
   ],
   "source": [
    "print(lariac4_lidar.X)"
   ]
  },
  {
   "cell_type": "code",
   "execution_count": 27,
   "id": "approximate-interest",
   "metadata": {},
   "outputs": [
    {
     "name": "stdout",
     "output_type": "stream",
     "text": [
      "[184698931 184698863 184698778 ... 184466206 184466485 184466412]\n"
     ]
    }
   ],
   "source": [
    "print(lariac4_lidar.Y)"
   ]
  },
  {
   "cell_type": "code",
   "execution_count": null,
   "id": "damaged-donor",
   "metadata": {},
   "outputs": [],
   "source": []
  },
  {
   "cell_type": "code",
   "execution_count": null,
   "id": "funky-quarterly",
   "metadata": {},
   "outputs": [],
   "source": []
  }
 ],
 "metadata": {
  "kernelspec": {
   "display_name": "Python 3",
   "language": "python",
   "name": "python3"
  },
  "language_info": {
   "codemirror_mode": {
    "name": "ipython",
    "version": 3
   },
   "file_extension": ".py",
   "mimetype": "text/x-python",
   "name": "python",
   "nbconvert_exporter": "python",
   "pygments_lexer": "ipython3",
   "version": "3.7.6"
  }
 },
 "nbformat": 4,
 "nbformat_minor": 5
}
