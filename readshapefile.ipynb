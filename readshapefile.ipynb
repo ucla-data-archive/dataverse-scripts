{
 "cells": [
  {
   "cell_type": "code",
   "execution_count": 1,
   "id": "activated-layout",
   "metadata": {},
   "outputs": [],
   "source": [
    "#  info on bounding boxes:  https://www.usna.edu/Users/oceano/pguth/md_help/html/gis/bounding_box.htm\n",
    "# you can install pyshp either by pip or conda\n",
    "# https://pypi.org/project/pyshp/#reading-shapefiles\n",
    "# A bounding box (usually shortened to bbox) is an area defined by two longitudes and two latitudes, where: Latitude is a decimal number between -90.0 and 90.0. Longitude is a decimal number between -180.0 and 180.0.'''"
   ]
  },
  {
   "cell_type": "code",
   "execution_count": 87,
   "id": "humanitarian-service",
   "metadata": {},
   "outputs": [],
   "source": [
    "import shapefile\n",
    "import json"
   ]
  },
  {
   "cell_type": "code",
   "execution_count": 88,
   "id": "liberal-reach",
   "metadata": {},
   "outputs": [
    {
     "data": {
      "text/plain": [
       "[-13202189.932255162, 3999933.8254419817, -13102257.534840094, 4069752.4818613026]"
      ]
     },
     "execution_count": 88,
     "metadata": {},
     "output_type": "execute_result"
    }
   ],
   "source": [
    "# sample code\n",
    "# sf = shapefile.Reader(\"shapefiles/blockgroups.shp\")\n",
    "# sf = shapefile.Reader(\"shapefiles/blockgroups.dbf\")\n",
    "#with shapefile.Reader(\"shapefiles/blockgroups.shp\") as shp:\n",
    "#...     print(shp)\n",
    "# len(sf)\n",
    "# # sf.bbox\n",
    "\n",
    "sf = shapefile.Reader(\"lamas01/lamas01.zip\")\n",
    "sf.bbox"
   ]
  },
  {
   "cell_type": "code",
   "execution_count": 89,
   "id": "leading-education",
   "metadata": {},
   "outputs": [
    {
     "name": "stdout",
     "output_type": "stream",
     "text": [
      "shapefile Reader\n",
      "    30 shapes (type 'POLYGON')\n",
      "    30 records (18 fields)\n"
     ]
    }
   ],
   "source": [
    "with shapefile.Reader(\"lamas01/lamas01.zip\") as shp:\n",
    "    print(shp)"
   ]
  },
  {
   "cell_type": "code",
   "execution_count": 90,
   "id": "likely-cocktail",
   "metadata": {},
   "outputs": [
    {
     "data": {
      "text/plain": [
       "[-13202189.932255162, 3999933.8254419817, -13102257.534840094, 4069752.4818613026]"
      ]
     },
     "execution_count": 90,
     "metadata": {},
     "output_type": "execute_result"
    }
   ],
   "source": [
    "# order of counding boxes is pretty stnadard\n",
    "sf.bbox"
   ]
  }
 ],
 "metadata": {
  "kernelspec": {
   "display_name": "Python 3",
   "language": "python",
   "name": "python3"
  },
  "language_info": {
   "codemirror_mode": {
    "name": "ipython",
    "version": 3
   },
   "file_extension": ".py",
   "mimetype": "text/x-python",
   "name": "python",
   "nbconvert_exporter": "python",
   "pygments_lexer": "ipython3",
   "version": "3.7.6"
  }
 },
 "nbformat": 4,
 "nbformat_minor": 5
}
