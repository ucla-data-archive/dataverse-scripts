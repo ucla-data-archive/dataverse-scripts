{
 "cells": [
  {
   "cell_type": "code",
   "execution_count": 1,
   "metadata": {},
   "outputs": [],
   "source": [
    "# pip install pyDataverse"
   ]
  },
  {
   "cell_type": "code",
   "execution_count": 71,
   "metadata": {},
   "outputs": [
    {
     "name": "stdout",
     "output_type": "stream",
     "text": [
      "current directory: D:\\work-related\\pyDataverse\n"
     ]
    }
   ],
   "source": [
    "# upload a file to dataset using pyDataverse, now 3.0\n",
    "# from pyDataverse documentation: https://pydataverse.readthedocs.io/en/latest/\n",
    "from pyDataverse.api import NativeApi\n",
    "from pyDataverse.models import Dataverse\n",
    "import os  # this is so you can grep the current directory\n",
    "import json\n",
    "import pandas as pd\n",
    "import pprint\n",
    "dirpath = os.getcwd()\n",
    "print(\"current directory: \" + dirpath)\n",
    "os.chdir(dirpath)"
   ]
  },
  {
   "cell_type": "code",
   "execution_count": 72,
   "metadata": {},
   "outputs": [],
   "source": [
    "# establish connection\n",
    "# class Api(base_url, api_token=None, api_version='v1')\n",
    "base_url = 'https://dataverse.ucla.edu/'\n",
    "dv_token = '4eae5f4a-1a86-42a1-9764-cbebc0479a31'\n",
    "# older version of pyDataverse\n",
    "#api = Api(base_url, dv_token)\n",
    "#api.status\n",
    "#from pyDataverse.api import NativeApi\n",
    "api = NativeApi(base_url, dv_token)"
   ]
  },
  {
   "cell_type": "code",
   "execution_count": 73,
   "metadata": {},
   "outputs": [
    {
     "data": {
      "text/plain": [
       "'2018-09-28T21:46:11Z'"
      ]
     },
     "execution_count": 73,
     "metadata": {},
     "output_type": "execute_result"
    }
   ],
   "source": [
    "# get dataverse\n",
    "dv = 'ucla'\n",
    "resp = api.get_dataverse(dv)\n",
    "resp.json()['data']['creationDate']"
   ]
  },
  {
   "cell_type": "code",
   "execution_count": 84,
   "metadata": {},
   "outputs": [
    {
     "name": "stdout",
     "output_type": "stream",
     "text": [
      "identifier/doi: \n",
      "doi:10.25346/S6/EZYHS4\n",
      "dataset ID: \n",
      "4949\n"
     ]
    }
   ],
   "source": [
    "# get dataset using my dye plant class for testing   https://doi.org/10.25346/S6/EZYHS4\n",
    "ds_pid = 'doi:10.25346/S6/EZYHS4'\n",
    "print(\"identifier/doi: \")\n",
    "print(ds_pid)\n",
    "resp = api.get_dataset(ds_pid)\n",
    "datasetID = resp.json()['data']['id']\n",
    "print(\"dataset ID: \")\n",
    "print(datasetID)"
   ]
  },
  {
   "cell_type": "code",
   "execution_count": 85,
   "metadata": {},
   "outputs": [
    {
     "name": "stdout",
     "output_type": "stream",
     "text": [
      "9\n",
      "<class 'dict'>\n"
     ]
    }
   ],
   "source": [
    "# get list of all datafiles in dataset\n",
    "# The dataset id can be extracted from the response retrieved from the API \n",
    "#      which uses the persistent identifier (/api/datasets/:persistentId/?persistentId=$PERSISTENT_IDENTIFIER).\n",
    "# curl https://dataverse.ucla.edu/api/datasets/21062/versions/3.0/files | jq\n",
    "# check what version you are up to\n",
    "# curl https://dataverse.ucla.edu/api/datasets/21062/versions | jq . > filename.json\n",
    "# curl https://dataverse.ucla.edu/api/datasets/21062/versions | jq\n",
    "# identifier = 'doi:10.25346/S6/T4LHZF'\n",
    "version = '5.2'\n",
    "# resp = api.get_datafiles(ds_pid, version)\n",
    "fileOut = resp.json()['data']\n",
    "print(len(fileOut))\n",
    "print(type(fileOut))\n",
    "#print(fileOut)  "
   ]
  },
  {
   "cell_type": "code",
   "execution_count": 86,
   "metadata": {},
   "outputs": [
    {
     "name": "stdout",
     "output_type": "stream",
     "text": [
      "Number of files:  9\n"
     ]
    },
    {
     "ename": "KeyError",
     "evalue": "0",
     "output_type": "error",
     "traceback": [
      "\u001b[1;31m---------------------------------------------------------------------------\u001b[0m",
      "\u001b[1;31mKeyError\u001b[0m                                  Traceback (most recent call last)",
      "\u001b[1;32m<ipython-input-86-b34ef3753526>\u001b[0m in \u001b[0;36m<module>\u001b[1;34m\u001b[0m\n\u001b[0;32m      4\u001b[0m \u001b[0mprint\u001b[0m\u001b[1;33m(\u001b[0m\u001b[1;34m\"Number of files: \"\u001b[0m\u001b[1;33m,\u001b[0m \u001b[0mlen\u001b[0m\u001b[1;33m(\u001b[0m\u001b[0mfileOut\u001b[0m\u001b[1;33m)\u001b[0m\u001b[1;33m)\u001b[0m\u001b[1;33m\u001b[0m\u001b[1;33m\u001b[0m\u001b[0m\n\u001b[0;32m      5\u001b[0m \u001b[0mds\u001b[0m\u001b[1;33m.\u001b[0m\u001b[0mget\u001b[0m\u001b[1;33m(\u001b[0m\u001b[1;33m)\u001b[0m\u001b[1;33m\u001b[0m\u001b[1;33m\u001b[0m\u001b[0m\n\u001b[1;32m----> 6\u001b[1;33m \u001b[0mfile_label\u001b[0m \u001b[1;33m=\u001b[0m \u001b[0mfileOut\u001b[0m\u001b[1;33m[\u001b[0m\u001b[1;36m0\u001b[0m\u001b[1;33m]\u001b[0m\u001b[1;33m[\u001b[0m\u001b[1;34m\"label\"\u001b[0m\u001b[1;33m]\u001b[0m\u001b[1;33m\u001b[0m\u001b[1;33m\u001b[0m\u001b[0m\n\u001b[0m\u001b[0;32m      7\u001b[0m \u001b[0mprint\u001b[0m\u001b[1;33m(\u001b[0m\u001b[0mfile_label\u001b[0m\u001b[1;33m)\u001b[0m\u001b[1;33m\u001b[0m\u001b[1;33m\u001b[0m\u001b[0m\n\u001b[0;32m      8\u001b[0m \u001b[0mfile_id\u001b[0m \u001b[1;33m=\u001b[0m \u001b[0mfileOut\u001b[0m\u001b[1;33m[\u001b[0m\u001b[1;36m0\u001b[0m\u001b[1;33m]\u001b[0m\u001b[1;33m[\u001b[0m\u001b[1;34m\"dataFile\"\u001b[0m\u001b[1;33m]\u001b[0m\u001b[1;33m[\u001b[0m\u001b[1;34m\"id\"\u001b[0m\u001b[1;33m]\u001b[0m\u001b[1;33m\u001b[0m\u001b[1;33m\u001b[0m\u001b[0m\n",
      "\u001b[1;31mKeyError\u001b[0m: 0"
     ]
    }
   ],
   "source": [
    "# use pprint.pprint to get the structure of the metadata output, then pull out what's necessary for a csv file\n",
    "import pprint\n",
    "dir(pprint)\n",
    "print(\"Number of files: \", len(fileOut))\n",
    "ds.get()\n",
    "file_label = fileOut[0][\"label\"] \n",
    "print(file_label)\n",
    "file_id = fileOut[0][\"dataFile\"][\"id\"]\n",
    "print(file_id)\n",
    "file_URL = fileOut[0][\"dataFile\"][\"pidURL\"]\n",
    "file_doi = fileOut[0][\"dataFile\"][\"persistentId\"]\n",
    "print(file_label,\", \",file_id, \", \", file_doi, \", \", file_URL)\n",
    "print(\"Individual file structure:\")\n",
    "pprint.pprint(fileOut[0])"
   ]
  },
  {
   "cell_type": "code",
   "execution_count": 87,
   "metadata": {},
   "outputs": [],
   "source": [
    "from pyDataverse.api import NativeApi\n",
    "from pyDataverse.models import Dataverse\n",
    "from pyDataverse.utils import read_file\n",
    "dv = Dataverse()"
   ]
  },
  {
   "cell_type": "code",
   "execution_count": 88,
   "metadata": {},
   "outputs": [
    {
     "name": "stdout",
     "output_type": "stream",
     "text": [
      "doi:10.25346/S6/EZYHS4\n",
      "dyeCalculations.pdf\n"
     ]
    },
    {
     "data": {
      "text/plain": [
       "{'pid': 'doi:10.25346/S6/EZYHS4', 'filename': 'dyeCalculations.pdf'}"
      ]
     },
     "execution_count": 88,
     "metadata": {},
     "output_type": "execute_result"
    }
   ],
   "source": [
    "#from pyDataverse.models import Dataset\n",
    "#from pyDataverse.utils import read_file\n",
    "ds = Dataset()\n",
    "from pyDataverse.models import Datafile\n",
    "df = Datafile()\n",
    "df_filename = \"dyeCalculations.pdf\"\n",
    "print(ds_pid)\n",
    "print(df_filename)\n",
    "# df.set({\"pid\": ds_pid, \"filename\": df_filename})\n",
    "df.set({\"pid\" : ds_pid, \"filename\" : df_filename})\n",
    "df.get()"
   ]
  },
  {
   "cell_type": "code",
   "execution_count": 89,
   "metadata": {},
   "outputs": [
    {
     "name": "stdout",
     "output_type": "stream",
     "text": [
      "doi:10.25346/S6/EZYHS4/XBHNPM\n",
      "dyeCalculations.pdf\n",
      "{'pid': 'doi:10.25346/S6/EZYHS4/XBHNPM', 'description': 'Test file', 'filename': 'dyeCalculations.pdf'}\n"
     ]
    },
    {
     "data": {
      "text/plain": [
       "pyDataverse.models.Datafile"
      ]
     },
     "execution_count": 89,
     "metadata": {},
     "output_type": "execute_result"
    }
   ],
   "source": [
    "from pyDataverse.models import Datafile\n",
    "df = Datafile()\n",
    "df_pid = 'doi:10.25346/S6/EZYHS4/XBHNPM'\n",
    "print(df_pid)\n",
    "print(df_filename)\n",
    "df = Datafile()\n",
    "data = {'pid': df_pid,\n",
    "    'description': 'Test file',\n",
    "    'filename': df_filename\n",
    "    }\n",
    "#print(data)\n",
    "df.set(data)\n",
    "print(data)\n",
    "df.get()[\"filename\"]\n",
    "type(df)"
   ]
  },
  {
   "cell_type": "code",
   "execution_count": null,
   "metadata": {},
   "outputs": [],
   "source": []
  },
  {
   "cell_type": "code",
   "execution_count": null,
   "metadata": {},
   "outputs": [],
   "source": []
  }
 ],
 "metadata": {
  "kernelspec": {
   "display_name": "Python 3",
   "language": "python",
   "name": "python3"
  },
  "language_info": {
   "codemirror_mode": {
    "name": "ipython",
    "version": 3
   },
   "file_extension": ".py",
   "mimetype": "text/x-python",
   "name": "python",
   "nbconvert_exporter": "python",
   "pygments_lexer": "ipython3",
   "version": "3.7.6"
  }
 },
 "nbformat": 4,
 "nbformat_minor": 4
}
