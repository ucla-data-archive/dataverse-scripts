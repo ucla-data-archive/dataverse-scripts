{
 "cells": [
  {
   "cell_type": "code",
   "execution_count": 2,
   "id": "incredible-advancement",
   "metadata": {},
   "outputs": [],
   "source": [
    "# this one uses the new version of pyDataverse\n",
    "from pyDataverse.models import Datafile\n",
    "df = Datafile()"
   ]
  },
  {
   "cell_type": "code",
   "execution_count": 3,
   "id": "great-hopkins",
   "metadata": {},
   "outputs": [],
   "source": [
    "base_url = 'https://dataverse.ucla.edu/'\n",
    "dv_token = '4eae5f4a-1a86-42a1-9764-cbebc0479a31'"
   ]
  },
  {
   "cell_type": "code",
   "execution_count": 4,
   "id": "finite-native",
   "metadata": {},
   "outputs": [
    {
     "data": {
      "text/plain": [
       "{'pid': 'doi:10.25346/S6/EZYHS4/XBHNPM', 'filename': 'chemicalCalc.doc'}"
      ]
     },
     "execution_count": 4,
     "metadata": {},
     "output_type": "execute_result"
    }
   ],
   "source": [
    "df_filename = \"chemicalCalc.doc\"\n",
    "ds_pid = \"doi:10.25346/S6/EZYHS4/XBHNPM\"\n",
    "df.set({\"pid\": ds_pid, \"filename\": df_filename})\n",
    "df.get()"
   ]
  },
  {
   "cell_type": "code",
   "execution_count": null,
   "id": "eastern-northern",
   "metadata": {},
   "outputs": [],
   "source": []
  }
 ],
 "metadata": {
  "kernelspec": {
   "display_name": "Python 3",
   "language": "python",
   "name": "python3"
  },
  "language_info": {
   "codemirror_mode": {
    "name": "ipython",
    "version": 3
   },
   "file_extension": ".py",
   "mimetype": "text/x-python",
   "name": "python",
   "nbconvert_exporter": "python",
   "pygments_lexer": "ipython3",
   "version": "3.7.6"
  }
 },
 "nbformat": 4,
 "nbformat_minor": 5
}
